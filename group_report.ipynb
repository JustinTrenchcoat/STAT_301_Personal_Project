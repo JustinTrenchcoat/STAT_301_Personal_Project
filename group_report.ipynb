{
 "cells": [
  {
   "cell_type": "markdown",
   "metadata": {},
   "source": [
    "## Best Predictor in Predicting Tips: A STAT 301 Case Study Project"
   ]
  },
  {
   "cell_type": "markdown",
   "metadata": {},
   "source": [
    "### Introduction"
   ]
  },
  {
   "cell_type": "markdown",
   "metadata": {},
   "source": [
    "##### Data Description\n",
    "This dataset is obtained from https://www.kaggle.com/datasets/saurabhbadole/restaurant-tips-dataset.  \n",
    "Collected from a popular restaurant over a specified period, this dataset looks into the tipping behavior in a restaurant setting. In this dataset, there are in total 244 observations, and 7 variables.    \n",
    "Table of variables used:\n",
    "| Variable Name | Discription | Type |\n",
    "| :---: | :---: | :---: |\n",
    "|total_bill| total bill amount in dollars|Numerical, independent variable|\n",
    "|sex| Gender of the person paying the bill (Male/Female)|Categorical, independent variable|\n",
    "|smoker|Whether the person is a smoker (Yes/No) |Categorical, independent variable|\n",
    "|day|Day of the week when the transaction took place (Thur/Fri/Sat/Sun)|Categorical, independent variable|\n",
    "|time|Time of day when the transaction took place (Lunch/Dinner)|Categorical, independent variable|\n",
    "|size|Size of the dining party (number of people)|Numerical, independent variable|\n",
    "|tip|Tip amount in dollars|Numerical, target variable|"
   ]
  },
  {
   "cell_type": "markdown",
   "metadata": {},
   "source": [
    "##### Research Question"
   ]
  },
  {
   "cell_type": "markdown",
   "metadata": {},
   "source": [
    "*Which set of input variables available in the tips dataset best explain the variation in the amount of tips?*"
   ]
  },
  {
   "cell_type": "markdown",
   "metadata": {},
   "source": [
    "### Methods and Results"
   ]
  },
  {
   "cell_type": "markdown",
   "metadata": {},
   "source": [
    "#### Exploratory Data Analysis (EDA)"
   ]
  },
  {
   "cell_type": "code",
   "execution_count": 4,
   "metadata": {
    "vscode": {
     "languageId": "r"
    }
   },
   "outputs": [
    {
     "data": {
      "text/html": [
       "<table class=\"dataframe\">\n",
       "<caption>A data.frame: 6 × 7</caption>\n",
       "<thead>\n",
       "\t<tr><th></th><th scope=col>total_bill</th><th scope=col>tip</th><th scope=col>sex</th><th scope=col>smoker</th><th scope=col>day</th><th scope=col>time</th><th scope=col>size</th></tr>\n",
       "\t<tr><th></th><th scope=col>&lt;dbl&gt;</th><th scope=col>&lt;dbl&gt;</th><th scope=col>&lt;chr&gt;</th><th scope=col>&lt;chr&gt;</th><th scope=col>&lt;chr&gt;</th><th scope=col>&lt;chr&gt;</th><th scope=col>&lt;int&gt;</th></tr>\n",
       "</thead>\n",
       "<tbody>\n",
       "\t<tr><th scope=row>1</th><td>16.99</td><td>1.01</td><td>Female</td><td>No</td><td>Sun</td><td>Dinner</td><td>2</td></tr>\n",
       "\t<tr><th scope=row>2</th><td>10.34</td><td>1.66</td><td>Male  </td><td>No</td><td>Sun</td><td>Dinner</td><td>3</td></tr>\n",
       "\t<tr><th scope=row>3</th><td>21.01</td><td>3.50</td><td>Male  </td><td>No</td><td>Sun</td><td>Dinner</td><td>3</td></tr>\n",
       "\t<tr><th scope=row>4</th><td>23.68</td><td>3.31</td><td>Male  </td><td>No</td><td>Sun</td><td>Dinner</td><td>2</td></tr>\n",
       "\t<tr><th scope=row>5</th><td>24.59</td><td>3.61</td><td>Female</td><td>No</td><td>Sun</td><td>Dinner</td><td>4</td></tr>\n",
       "\t<tr><th scope=row>6</th><td>25.29</td><td>4.71</td><td>Male  </td><td>No</td><td>Sun</td><td>Dinner</td><td>4</td></tr>\n",
       "</tbody>\n",
       "</table>\n"
      ],
      "text/latex": [
       "A data.frame: 6 × 7\n",
       "\\begin{tabular}{r|lllllll}\n",
       "  & total\\_bill & tip & sex & smoker & day & time & size\\\\\n",
       "  & <dbl> & <dbl> & <chr> & <chr> & <chr> & <chr> & <int>\\\\\n",
       "\\hline\n",
       "\t1 & 16.99 & 1.01 & Female & No & Sun & Dinner & 2\\\\\n",
       "\t2 & 10.34 & 1.66 & Male   & No & Sun & Dinner & 3\\\\\n",
       "\t3 & 21.01 & 3.50 & Male   & No & Sun & Dinner & 3\\\\\n",
       "\t4 & 23.68 & 3.31 & Male   & No & Sun & Dinner & 2\\\\\n",
       "\t5 & 24.59 & 3.61 & Female & No & Sun & Dinner & 4\\\\\n",
       "\t6 & 25.29 & 4.71 & Male   & No & Sun & Dinner & 4\\\\\n",
       "\\end{tabular}\n"
      ],
      "text/markdown": [
       "\n",
       "A data.frame: 6 × 7\n",
       "\n",
       "| <!--/--> | total_bill &lt;dbl&gt; | tip &lt;dbl&gt; | sex &lt;chr&gt; | smoker &lt;chr&gt; | day &lt;chr&gt; | time &lt;chr&gt; | size &lt;int&gt; |\n",
       "|---|---|---|---|---|---|---|---|\n",
       "| 1 | 16.99 | 1.01 | Female | No | Sun | Dinner | 2 |\n",
       "| 2 | 10.34 | 1.66 | Male   | No | Sun | Dinner | 3 |\n",
       "| 3 | 21.01 | 3.50 | Male   | No | Sun | Dinner | 3 |\n",
       "| 4 | 23.68 | 3.31 | Male   | No | Sun | Dinner | 2 |\n",
       "| 5 | 24.59 | 3.61 | Female | No | Sun | Dinner | 4 |\n",
       "| 6 | 25.29 | 4.71 | Male   | No | Sun | Dinner | 4 |\n",
       "\n"
      ],
      "text/plain": [
       "  total_bill tip  sex    smoker day time   size\n",
       "1 16.99      1.01 Female No     Sun Dinner 2   \n",
       "2 10.34      1.66 Male   No     Sun Dinner 3   \n",
       "3 21.01      3.50 Male   No     Sun Dinner 3   \n",
       "4 23.68      3.31 Male   No     Sun Dinner 2   \n",
       "5 24.59      3.61 Female No     Sun Dinner 4   \n",
       "6 25.29      4.71 Male   No     Sun Dinner 4   "
      ]
     },
     "metadata": {},
     "output_type": "display_data"
    }
   ],
   "source": [
    "# \n",
    "url <- \"https://raw.githubusercontent.com/JustinTrenchcoat/STAT_301_Personal_Project/refs/heads/main/tips.csv\"\n",
    "\n",
    "tips_data <- read.csv(url(url), header = TRUE)\n",
    "head(tips_data)\n",
    "ncol <- ncol(tips_data)\n",
    "norw <- nrow(tips_data)"
   ]
  },
  {
   "cell_type": "markdown",
   "metadata": {},
   "source": [
    "#### Methods: Plan"
   ]
  },
  {
   "cell_type": "markdown",
   "metadata": {},
   "source": [
    "##### Method:\n",
    "1. Data would be splited into two portions with rate of 70%-30%, to create a training set and selection set.\n",
    "2. The backward selection algorithm is deployed to to construct a multiple linear regression model using the training set, and models with different set of explanatory varibables would be evaluated with AIC. \n",
    "3. The multiple $R^2$ will be used to evaluate the model by calculating the proportion of the variation in tips explained by the model when applied to the selection set.   \n",
    "\n",
    "##### Justification of Method Used:\n",
    "Given that we want to find out which set of explanatory variables from the total set given are significant for model-fitting and making inferences, starting off with the full set of available input variables and eliminating from there makes sense since there are only 6 input variables and the computational effort required is reasonable. Previous exploratory data analysis and subsequent discussion within the group have revealed that there is insufficient data for proper comparison within categories - for example, insufficient lunch and dinner data for certain days of the week. Hence, using a criterion that selects categorical variables as a whole rather than by specific levels would be better in this case because there is not enough information to accurately make such specific selections. A multiple linear regression is used because the response variable, amount of tips given, is a continuous variable and there are several input variables that are being taken into account. The adjusted $R^2$ is used for model evaluation because it evaluates the proportion of the variance of the amount of tips (response variable) explained by the model with penalisation to compensate for the model's size. This allows us to check if the model fits the data well enough for inferences to be made.\n",
    "\n",
    "##### Assumptions required:\n",
    "* There is a linear relationship between the response and input variables.\n",
    "* Errors are independent of each other\n",
    "* The conditional distribution of error terms is normal\n",
    "* The variance of the error terms are approximately equal\n",
    "* No multicollinearity exists among the variables"
   ]
  },
  {
   "cell_type": "code",
   "execution_count": 12,
   "metadata": {
    "vscode": {
     "languageId": "r"
    }
   },
   "outputs": [],
   "source": [
    "library(dplyr)\n",
    "library(tidyverse)\n",
    "library(broom)\n",
    "library(repr)\n",
    "library(ggplot2)\n",
    "library(httr)\n",
    "library(jsonlite)\n",
    "library(MASS)"
   ]
  },
  {
   "cell_type": "code",
   "execution_count": 15,
   "metadata": {
    "vscode": {
     "languageId": "r"
    }
   },
   "outputs": [],
   "source": [
    "# Main developer: Jia Xin Tan\n",
    "# Contributor: Jiaming Chang\n",
    "\n",
    "# set up random see\n",
    "set.seed(120)\n",
    "\n",
    "# tidy the data: change the data type from strings to factors\n",
    "tips_tidied <- tips_data |> \n",
    "    mutate(sex = factor(sex),\n",
    "           smoker = factor(ifelse(smoker == \"Yes\", \"Smoker\", \"Non-smoker\")),\n",
    "           day = factor(day),\n",
    "           time = factor(time), \n",
    "           size = factor(size))"
   ]
  },
  {
   "cell_type": "code",
   "execution_count": null,
   "metadata": {
    "vscode": {
     "languageId": "r"
    }
   },
   "outputs": [],
   "source": [
    "# Main developer: Jia Xin Tan\n",
    "# Contributor: Jiaming Chang\n",
    "\n",
    "# Data splitting process: \n",
    "# 70% of the data is splitted from the whole dataset, stored as `tips_train`, and used for backward selection process.\n",
    "# the other 30% of dataset is stored as `tips_select` for evaluation.\n",
    "tips_sample <- \n",
    "    tips_tidied |>\n",
    "    mutate(id = row_number())\n",
    "\n",
    "tips_train <- tips_sample |> \n",
    "    slice_sample(prop = 0.7, replace = FALSE)\n",
    "\n",
    "tips_select <- tips_sample |>\n",
    "    anti_join(tips_train, by = \"id\")\n",
    "\n",
    "tips_train <- tips_train |> \n",
    "    dplyr::select(- \"id\")\n",
    "\n",
    "tips_select <- tips_select |>\n",
    "    dplyr::select(- \"id\")"
   ]
  },
  {
   "cell_type": "code",
   "execution_count": 43,
   "metadata": {
    "vscode": {
     "languageId": "r"
    }
   },
   "outputs": [
    {
     "name": "stdout",
     "output_type": "stream",
     "text": [
      "Start:  AIC=69.04\n",
      "tip ~ total_bill + sex + smoker + day + time + size\n",
      "\n",
      "             Df Sum of Sq    RSS     AIC\n",
      "- size        5     4.316 176.60  47.563\n",
      "- day         3     2.713 175.00  56.285\n",
      "- time        1     0.037 172.32  63.937\n",
      "- sex         1     0.039 172.32  63.939\n",
      "- smoker      1     0.237 172.52  64.134\n",
      "<none>                    172.29  69.036\n",
      "- total_bill  1    65.548 237.83 118.711\n",
      "\n",
      "Step:  AIC=47.56\n",
      "tip ~ total_bill + sex + smoker + day + time\n",
      "\n",
      "             Df Sum of Sq    RSS     AIC\n",
      "- day         3     2.622 179.22  34.661\n",
      "- time        1     0.015 176.62  42.442\n",
      "- sex         1     0.190 176.79  42.611\n",
      "- smoker      1     0.901 177.50  43.293\n",
      "<none>                    176.60  47.563\n",
      "- total_bill  1   120.388 296.99 130.793\n",
      "\n",
      "Step:  AIC=34.66\n",
      "tip ~ total_bill + sex + smoker + time\n",
      "\n",
      "             Df Sum of Sq    RSS     AIC\n",
      "- time        1     0.021 179.25  29.546\n",
      "- sex         1     0.115 179.34  29.635\n",
      "- smoker      1     2.326 181.55  31.718\n",
      "<none>                    179.22  34.661\n",
      "- total_bill  1   125.487 304.71 119.749\n",
      "\n",
      "Step:  AIC=29.55\n",
      "tip ~ total_bill + sex + smoker\n",
      "\n",
      "             Df Sum of Sq    RSS     AIC\n",
      "- sex         1     0.104 179.35  24.509\n",
      "- smoker      1     2.313 181.56  26.590\n",
      "<none>                    179.25  29.546\n",
      "- total_bill  1   128.912 308.16 116.526\n",
      "\n",
      "Step:  AIC=24.51\n",
      "tip ~ total_bill + smoker\n",
      "\n",
      "             Df Sum of Sq    RSS     AIC\n",
      "- smoker      1     2.291 181.64  21.531\n",
      "<none>                    179.35  24.509\n",
      "- total_bill  1   129.659 309.01 111.858\n",
      "\n",
      "Step:  AIC=21.53\n",
      "tip ~ total_bill\n",
      "\n",
      "             Df Sum of Sq    RSS     AIC\n",
      "<none>                    181.64  21.531\n",
      "- total_bill  1    127.98 309.62 107.060\n"
     ]
    },
    {
     "data": {
      "text/plain": [
       "\n",
       "Call:\n",
       "lm(formula = tip ~ total_bill, data = tips_train)\n",
       "\n",
       "Residuals:\n",
       "    Min      1Q  Median      3Q     Max \n",
       "-3.1506 -0.5715 -0.1240  0.4466  3.8546 \n",
       "\n",
       "Coefficients:\n",
       "            Estimate Std. Error t value Pr(>|t|)    \n",
       "(Intercept) 0.988626   0.200303   4.936 1.91e-06 ***\n",
       "total_bill  0.101492   0.009329  10.880  < 2e-16 ***\n",
       "---\n",
       "Signif. codes:  0 '***' 0.001 '**' 0.01 '*' 0.05 '.' 0.1 ' ' 1\n",
       "\n",
       "Residual standard error: 1.04 on 168 degrees of freedom\n",
       "Multiple R-squared:  0.4133,\tAdjusted R-squared:  0.4099 \n",
       "F-statistic: 118.4 on 1 and 168 DF,  p-value: < 2.2e-16\n"
      ]
     },
     "metadata": {},
     "output_type": "display_data"
    }
   ],
   "source": [
    "# Main developer: Jia Xin Tan\n",
    "# Contributor: Jiaming Chang\n",
    "\n",
    "# Backward selection process, the metric is BIC\n",
    "tips_model <- lm(tip ~ ., data = tips_train)\n",
    "n <- nrow(tips_train)\n",
    "tips_null <- lm(tip ~ 1, data = tips_train)\n",
    "\n",
    "# Run stepwise selection with BIC (k = log(n))\n",
    "tips_bwd_bic <- stepAIC(tips_model, \n",
    "                       direction = \"backward\",\n",
    "                       k = log(n), \n",
    "                       trace = 2)   # Set to 2 for detailed output\n",
    "summary(tips_bwd_bic)"
   ]
  },
  {
   "cell_type": "code",
   "execution_count": null,
   "metadata": {
    "vscode": {
     "languageId": "r"
    }
   },
   "outputs": [
    {
     "data": {
      "image/png": "[encoded data removed]",
      "text/plain": [
       "plot without title"
      ]
     },
     "metadata": {
      "image/png": {
       "height": 420,
       "width": 420
      }
     },
     "output_type": "display_data"
    }
   ],
   "source": [
    "# Main developer: Jiaming Chang\n",
    "# Contributor: Jiaming Chang\n",
    "\n",
    "# Extract BIC values for each step.\n",
    "bic_values <- c(BIC(tips_model), tips_bwd_bic$anova$AIC + (log(n)-2)*(n-1))\n",
    "plot_data <- data.frame(\n",
    "  Step = 0:(length(bic_values)-1),\n",
    "  BIC = bic_values\n",
    ")\n",
    "\n",
    "# Plot the steps and BIC value for stepwise selection\n",
    "ggplot(plot_data, aes(x = Step, y = BIC)) +\n",
    "  geom_line(color = \"red\", linewidth = 1) +\n",
    "  geom_point(color = \"black\", size = 3) +\n",
    "  geom_hline(yintercept = min(bic_values), linetype = \"dashed\", color = \"blue\") +\n",
    "  labs(title = \"Figure 1: BIC Values During Backward Selection\",\n",
    "       subtitle = paste(\"Optimal model at Step\", which.min(bic_values)-1),\n",
    "       x = \"Step Number\",\n",
    "       y = \"BIC\") +\n",
    "  theme_minimal() +\n",
    "  scale_x_continuous(breaks = plot_data$Step) +\n",
    "  geom_text(aes(label = round(BIC, 1)), vjust = -1)"
   ]
  },
  {
   "cell_type": "code",
   "execution_count": 45,
   "metadata": {
    "vscode": {
     "languageId": "r"
    }
   },
   "outputs": [
    {
     "data": {
      "text/plain": [
       "\n",
       "Call:\n",
       "lm(formula = tip ~ total_bill, data = tips_select)\n",
       "\n",
       "Residuals:\n",
       "    Min      1Q  Median      3Q     Max \n",
       "-2.3487 -0.5653 -0.0249  0.5179  3.1231 \n",
       "\n",
       "Coefficients:\n",
       "            Estimate Std. Error t value Pr(>|t|)    \n",
       "(Intercept)  0.79479    0.26596   2.988  0.00383 ** \n",
       "total_bill   0.11144    0.01199   9.293 5.96e-14 ***\n",
       "---\n",
       "Signif. codes:  0 '***' 0.001 '**' 0.01 '*' 0.05 '.' 0.1 ' ' 1\n",
       "\n",
       "Residual standard error: 0.991 on 72 degrees of freedom\n",
       "Multiple R-squared:  0.5454,\tAdjusted R-squared:  0.539 \n",
       "F-statistic: 86.36 on 1 and 72 DF,  p-value: 5.956e-14\n"
      ]
     },
     "metadata": {},
     "output_type": "display_data"
    }
   ],
   "source": [
    "# Main developer: Jia Xin Tan\n",
    "# Contributor: Jiaming Chang\n",
    "\n",
    "# Evaluate the model with the 30% of original dataset\n",
    "tips_select_bwd <- lm(tip ~ total_bill, tips_select)\n",
    "# print out information for this evaluation\n",
    "tips_eval <- summary(tips_select_bwd)\n",
    "tips_eval"
   ]
  },
  {
   "cell_type": "markdown",
   "metadata": {},
   "source": [
    "##### Interpretation of results:\n",
    "As seen from the analysis above, the chosen model unexpectedly ends up as a single linear regression with only one input variable, total bill, chosen. The multiple R-squared is 0.5454, which means the total bill is associated with about 54.54% of the variation in tip amount - a moderate association. The fact that only total bill was selected could mean potential multicollinearity with the other input variables or that there is a lack of strong relationships between the other input variables and the amount of tips given. To improve the strength of association and address model concerns, carrying out further data analysis (for example, exploring potential significant relationships between input variables through adding interaction terms in the model) as well as using a larger, more comprehensive dataset would be ideal. "
   ]
  },
  {
   "cell_type": "markdown",
   "metadata": {},
   "source": [
    "### Discussion"
   ]
  },
  {
   "cell_type": "markdown",
   "metadata": {},
   "source": [
    "### References"
   ]
  },
  {
   "cell_type": "markdown",
   "metadata": {},
   "source": [
    "Badole, Saurabh. (2025, March). *Restaurant Tips Dataset*. Retrieved from [https://www.kaggle.com/datasets/saurabhbadole/restaurant-tips-dataset](https://www.kaggle.com/datasets/saurabhbadole/restaurant-tips-dataset)"
   ]
  },
  {
   "cell_type": "markdown",
   "metadata": {},
   "source": []
  }
 ],
 "metadata": {
  "kernelspec": {
   "display_name": "R",
   "language": "R",
   "name": "ir"
  },
  "language_info": {
   "codemirror_mode": "r",
   "file_extension": ".r",
   "mimetype": "text/x-r-source",
   "name": "R",
   "pygments_lexer": "r",
   "version": "4.4.2"
  }
 },
 "nbformat": 4,
 "nbformat_minor": 2
}
