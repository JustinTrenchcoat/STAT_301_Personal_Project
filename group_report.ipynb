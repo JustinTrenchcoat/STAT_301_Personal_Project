{
 "cells": [
  {
   "cell_type": "markdown",
   "metadata": {},
   "source": [
    "## Best Factors in Explaining Tips: A STAT 301 Case Study Project"
   ]
  },
  {
   "cell_type": "markdown",
   "metadata": {},
   "source": [
    "**Group members:** Wanqing Hu, Jia Xin Tan, Jiaming Chang, Iris Caglayan\n",
    "\n",
    "**Course:** STAT 301 102, 2024-2025 Winter Term 2\n",
    "\n",
    "**Date:** 15 April 2025"
   ]
  },
  {
   "cell_type": "code",
   "execution_count": null,
   "metadata": {
    "vscode": {
     "languageId": "r"
    }
   },
   "outputs": [],
   "source": [
    "# Load packages\n",
    "library(tidyverse)\n",
    "library(ggplot2)\n",
    "library(dplyr)\n",
    "library(broom)\n",
    "library(repr)\n",
    "library(httr)\n",
    "library(jsonlite)\n",
    "library(MASS)"
   ]
  },
  {
   "cell_type": "markdown",
   "metadata": {},
   "source": [
    "### Introduction"
   ]
  },
  {
   "cell_type": "markdown",
   "metadata": {},
   "source": [
    "In North America, tips are a customary amount of money given to the staff at dining establishments as a form of compliment or token of appreciation for their service. Typically, they are calculated as a percentage of the meal's price or customised based on consumers' discretion. Tipping behaviour is a subject of great interest across business industries and the social sciences as people understandably want to figure out how to earn more money and understand this interesting social phenomenon. Existing studies such as those by Michael Lynn, explore how tipping in the United States is influenced by people's beliefs across various situations (2015). Other studies study how tipping outcomes vary by gender and how this reflects differences in altruism (Parrett, 2023). \n",
    "\n",
    "Given the restaurant tips dataset from kaggle (Badole, 2025), it would be fruitful to explore the relationships between several variables and the tipping amount in order to try and understand what really drives tipping behaviour. The studies mentioned above explore the tipping phenomenon from a socio-psychological perspective which we would like to find out given that our dataset has variables such as whether the tipper is a smoker and the gender of the tipper. However, we would also like to explore more of the practical aspects - the time or day when customers have a meal and how large their party size is - and their relation to the amount of tips given. The relationship between tips and gender has been explored in prior literature, but there is not much research that has been done exploring the variety of variables available in this tips dataset. This project thus seeks to find out which set of these input variables best explain the variation in the amount of tips. The primary goal of this investigation is inference. Results could potentially be useful for restaurants to adjust their marketing strategies and optimise their returns from service. Finding out which factors interact significantly with tip amounts would also be advantageous for developing future predictive algorithms that aim to predict amount of tips based on consumer transaction data."
   ]
  },
  {
   "cell_type": "markdown",
   "metadata": {},
   "source": [
    "##### Data Description\n",
    "This dataset is obtained from https://www.kaggle.com/datasets/saurabhbadole/restaurant-tips-dataset.\n",
    "\n",
    "Collected from a popular restaurant over a specified period, this dataset looks into the tipping behavior in a restaurant setting. In this dataset, there are in total 244 observations, and 7 variables.\n",
    "    \n",
    "Table of variables used:\n",
    "| Variable Name | Discription | Type |\n",
    "| :---: | :---: | :---: |\n",
    "|total_bill| total bill amount in dollars|Numerical, independent variable|\n",
    "|sex| Gender of the person paying the bill (Male/Female)|Categorical, independent variable|\n",
    "|smoker|Whether the person is a smoker (Yes/No) |Categorical, independent variable|\n",
    "|day|Day of the week when the transaction took place (Thur/Fri/Sat/Sun)|Categorical, independent variable|\n",
    "|time|Time of day when the transaction took place (Lunch/Dinner)|Categorical, independent variable|\n",
    "|size|Size of the dining party (number of people)|Numerical, independent variable|\n",
    "|tip|Tip amount in dollars|Numerical, target variable|"
   ]
  },
  {
   "cell_type": "markdown",
   "metadata": {},
   "source": [
    "##### Research Question"
   ]
  },
  {
   "cell_type": "markdown",
   "metadata": {},
   "source": [
    "*Which set of input variables available in the tips dataset best explain the variation in the amount of tips?*"
   ]
  },
  {
   "cell_type": "markdown",
   "metadata": {},
   "source": [
    "### Methods and Results"
   ]
  },
  {
   "cell_type": "markdown",
   "metadata": {},
   "source": [
    "#### Exploratory Data Analysis (EDA)"
   ]
  },
  {
   "cell_type": "code",
   "execution_count": null,
   "metadata": {
    "vscode": {
     "languageId": "r"
    }
   },
   "outputs": [
    {
     "data": {
      "text/html": [
       "<table class=\"dataframe\">\n",
       "<caption>A data.frame: 6 × 7</caption>\n",
       "<thead>\n",
       "\t<tr><th></th><th scope=col>total_bill</th><th scope=col>tip</th><th scope=col>sex</th><th scope=col>smoker</th><th scope=col>day</th><th scope=col>time</th><th scope=col>size</th></tr>\n",
       "\t<tr><th></th><th scope=col>&lt;dbl&gt;</th><th scope=col>&lt;dbl&gt;</th><th scope=col>&lt;chr&gt;</th><th scope=col>&lt;chr&gt;</th><th scope=col>&lt;chr&gt;</th><th scope=col>&lt;chr&gt;</th><th scope=col>&lt;int&gt;</th></tr>\n",
       "</thead>\n",
       "<tbody>\n",
       "\t<tr><th scope=row>1</th><td>16.99</td><td>1.01</td><td>Female</td><td>No</td><td>Sun</td><td>Dinner</td><td>2</td></tr>\n",
       "\t<tr><th scope=row>2</th><td>10.34</td><td>1.66</td><td>Male  </td><td>No</td><td>Sun</td><td>Dinner</td><td>3</td></tr>\n",
       "\t<tr><th scope=row>3</th><td>21.01</td><td>3.50</td><td>Male  </td><td>No</td><td>Sun</td><td>Dinner</td><td>3</td></tr>\n",
       "\t<tr><th scope=row>4</th><td>23.68</td><td>3.31</td><td>Male  </td><td>No</td><td>Sun</td><td>Dinner</td><td>2</td></tr>\n",
       "\t<tr><th scope=row>5</th><td>24.59</td><td>3.61</td><td>Female</td><td>No</td><td>Sun</td><td>Dinner</td><td>4</td></tr>\n",
       "\t<tr><th scope=row>6</th><td>25.29</td><td>4.71</td><td>Male  </td><td>No</td><td>Sun</td><td>Dinner</td><td>4</td></tr>\n",
       "</tbody>\n",
       "</table>\n"
      ],
      "text/latex": [
       "A data.frame: 6 × 7\n",
       "\\begin{tabular}{r|lllllll}\n",
       "  & total\\_bill & tip & sex & smoker & day & time & size\\\\\n",
       "  & <dbl> & <dbl> & <chr> & <chr> & <chr> & <chr> & <int>\\\\\n",
       "\\hline\n",
       "\t1 & 16.99 & 1.01 & Female & No & Sun & Dinner & 2\\\\\n",
       "\t2 & 10.34 & 1.66 & Male   & No & Sun & Dinner & 3\\\\\n",
       "\t3 & 21.01 & 3.50 & Male   & No & Sun & Dinner & 3\\\\\n",
       "\t4 & 23.68 & 3.31 & Male   & No & Sun & Dinner & 2\\\\\n",
       "\t5 & 24.59 & 3.61 & Female & No & Sun & Dinner & 4\\\\\n",
       "\t6 & 25.29 & 4.71 & Male   & No & Sun & Dinner & 4\\\\\n",
       "\\end{tabular}\n"
      ],
      "text/markdown": [
       "\n",
       "A data.frame: 6 × 7\n",
       "\n",
       "| <!--/--> | total_bill &lt;dbl&gt; | tip &lt;dbl&gt; | sex &lt;chr&gt; | smoker &lt;chr&gt; | day &lt;chr&gt; | time &lt;chr&gt; | size &lt;int&gt; |\n",
       "|---|---|---|---|---|---|---|---|\n",
       "| 1 | 16.99 | 1.01 | Female | No | Sun | Dinner | 2 |\n",
       "| 2 | 10.34 | 1.66 | Male   | No | Sun | Dinner | 3 |\n",
       "| 3 | 21.01 | 3.50 | Male   | No | Sun | Dinner | 3 |\n",
       "| 4 | 23.68 | 3.31 | Male   | No | Sun | Dinner | 2 |\n",
       "| 5 | 24.59 | 3.61 | Female | No | Sun | Dinner | 4 |\n",
       "| 6 | 25.29 | 4.71 | Male   | No | Sun | Dinner | 4 |\n",
       "\n"
      ],
      "text/plain": [
       "  total_bill tip  sex    smoker day time   size\n",
       "1 16.99      1.01 Female No     Sun Dinner 2   \n",
       "2 10.34      1.66 Male   No     Sun Dinner 3   \n",
       "3 21.01      3.50 Male   No     Sun Dinner 3   \n",
       "4 23.68      3.31 Male   No     Sun Dinner 2   \n",
       "5 24.59      3.61 Female No     Sun Dinner 4   \n",
       "6 25.29      4.71 Male   No     Sun Dinner 4   "
      ]
     },
     "metadata": {},
     "output_type": "display_data"
    },
    {
     "data": {
      "text/html": [
       "<table class=\"dataframe\">\n",
       "<caption>A data.frame: 6 × 7</caption>\n",
       "<thead>\n",
       "\t<tr><th></th><th scope=col>total_bill</th><th scope=col>tip</th><th scope=col>sex</th><th scope=col>smoker</th><th scope=col>day</th><th scope=col>time</th><th scope=col>size</th></tr>\n",
       "\t<tr><th></th><th scope=col>&lt;dbl&gt;</th><th scope=col>&lt;dbl&gt;</th><th scope=col>&lt;chr&gt;</th><th scope=col>&lt;chr&gt;</th><th scope=col>&lt;chr&gt;</th><th scope=col>&lt;chr&gt;</th><th scope=col>&lt;int&gt;</th></tr>\n",
       "</thead>\n",
       "<tbody>\n",
       "\t<tr><th scope=row>239</th><td>35.83</td><td>4.67</td><td>Female</td><td>No </td><td>Sat </td><td>Dinner</td><td>3</td></tr>\n",
       "\t<tr><th scope=row>240</th><td>29.03</td><td>5.92</td><td>Male  </td><td>No </td><td>Sat </td><td>Dinner</td><td>3</td></tr>\n",
       "\t<tr><th scope=row>241</th><td>27.18</td><td>2.00</td><td>Female</td><td>Yes</td><td>Sat </td><td>Dinner</td><td>2</td></tr>\n",
       "\t<tr><th scope=row>242</th><td>22.67</td><td>2.00</td><td>Male  </td><td>Yes</td><td>Sat </td><td>Dinner</td><td>2</td></tr>\n",
       "\t<tr><th scope=row>243</th><td>17.82</td><td>1.75</td><td>Male  </td><td>No </td><td>Sat </td><td>Dinner</td><td>2</td></tr>\n",
       "\t<tr><th scope=row>244</th><td>18.78</td><td>3.00</td><td>Female</td><td>No </td><td>Thur</td><td>Dinner</td><td>2</td></tr>\n",
       "</tbody>\n",
       "</table>\n"
      ],
      "text/latex": [
       "A data.frame: 6 × 7\n",
       "\\begin{tabular}{r|lllllll}\n",
       "  & total\\_bill & tip & sex & smoker & day & time & size\\\\\n",
       "  & <dbl> & <dbl> & <chr> & <chr> & <chr> & <chr> & <int>\\\\\n",
       "\\hline\n",
       "\t239 & 35.83 & 4.67 & Female & No  & Sat  & Dinner & 3\\\\\n",
       "\t240 & 29.03 & 5.92 & Male   & No  & Sat  & Dinner & 3\\\\\n",
       "\t241 & 27.18 & 2.00 & Female & Yes & Sat  & Dinner & 2\\\\\n",
       "\t242 & 22.67 & 2.00 & Male   & Yes & Sat  & Dinner & 2\\\\\n",
       "\t243 & 17.82 & 1.75 & Male   & No  & Sat  & Dinner & 2\\\\\n",
       "\t244 & 18.78 & 3.00 & Female & No  & Thur & Dinner & 2\\\\\n",
       "\\end{tabular}\n"
      ],
      "text/markdown": [
       "\n",
       "A data.frame: 6 × 7\n",
       "\n",
       "| <!--/--> | total_bill &lt;dbl&gt; | tip &lt;dbl&gt; | sex &lt;chr&gt; | smoker &lt;chr&gt; | day &lt;chr&gt; | time &lt;chr&gt; | size &lt;int&gt; |\n",
       "|---|---|---|---|---|---|---|---|\n",
       "| 239 | 35.83 | 4.67 | Female | No  | Sat  | Dinner | 3 |\n",
       "| 240 | 29.03 | 5.92 | Male   | No  | Sat  | Dinner | 3 |\n",
       "| 241 | 27.18 | 2.00 | Female | Yes | Sat  | Dinner | 2 |\n",
       "| 242 | 22.67 | 2.00 | Male   | Yes | Sat  | Dinner | 2 |\n",
       "| 243 | 17.82 | 1.75 | Male   | No  | Sat  | Dinner | 2 |\n",
       "| 244 | 18.78 | 3.00 | Female | No  | Thur | Dinner | 2 |\n",
       "\n"
      ],
      "text/plain": [
       "    total_bill tip  sex    smoker day  time   size\n",
       "239 35.83      4.67 Female No     Sat  Dinner 3   \n",
       "240 29.03      5.92 Male   No     Sat  Dinner 3   \n",
       "241 27.18      2.00 Female Yes    Sat  Dinner 2   \n",
       "242 22.67      2.00 Male   Yes    Sat  Dinner 2   \n",
       "243 17.82      1.75 Male   No     Sat  Dinner 2   \n",
       "244 18.78      3.00 Female No     Thur Dinner 2   "
      ]
     },
     "metadata": {},
     "output_type": "display_data"
    }
   ],
   "source": [
    "# read data into R\n",
    "url <- \"https://raw.githubusercontent.com/JustinTrenchcoat/STAT_301_Personal_Project/refs/heads/main/tips.csv\"\n",
    "data_tips <- read.csv(url(url), header = TRUE)\n",
    "head(data_tips)\n",
    "tail(data_tips)"
   ]
  },
  {
   "cell_type": "markdown",
   "metadata": {},
   "source": [
    "The dataset is already in tidy format."
   ]
  },
  {
   "cell_type": "code",
   "execution_count": null,
   "metadata": {
    "vscode": {
     "languageId": "r"
    }
   },
   "outputs": [],
   "source": [
    "# convert character variables into factors\n",
    "data_tips$sex <- as.factor(data_tips$sex)\n",
    "data_tips$smoker <- as.factor(data_tips$smoker)\n",
    "data_tips$day <- as.factor(data_tips$day)\n",
    "data_tips$time <- as.factor(data_tips$time)"
   ]
  },
  {
   "cell_type": "code",
   "execution_count": null,
   "metadata": {
    "vscode": {
     "languageId": "r"
    }
   },
   "outputs": [
    {
     "name": "stdout",
     "output_type": "stream",
     "text": [
      "Dataset contains 244 observations and 7 variables.\n",
      "\n"
     ]
    },
    {
     "data": {
      "text/html": [
       "<table class=\"dataframe\">\n",
       "<caption>A tibble: 7 × 4</caption>\n",
       "<thead>\n",
       "\t<tr><th scope=col>variable</th><th scope=col>type</th><th scope=col>n_levels</th><th scope=col>have_NA</th></tr>\n",
       "\t<tr><th scope=col>&lt;chr&gt;</th><th scope=col>&lt;chr&gt;</th><th scope=col>&lt;int&gt;</th><th scope=col>&lt;lgl&gt;</th></tr>\n",
       "</thead>\n",
       "<tbody>\n",
       "\t<tr><td>total_bill</td><td>numeric</td><td>NA</td><td>FALSE</td></tr>\n",
       "\t<tr><td>tip       </td><td>numeric</td><td>NA</td><td>FALSE</td></tr>\n",
       "\t<tr><td>sex       </td><td>factor </td><td> 2</td><td>FALSE</td></tr>\n",
       "\t<tr><td>smoker    </td><td>factor </td><td> 2</td><td>FALSE</td></tr>\n",
       "\t<tr><td>day       </td><td>factor </td><td> 4</td><td>FALSE</td></tr>\n",
       "\t<tr><td>time      </td><td>factor </td><td> 2</td><td>FALSE</td></tr>\n",
       "\t<tr><td>size      </td><td>integer</td><td>NA</td><td>FALSE</td></tr>\n",
       "</tbody>\n",
       "</table>\n"
      ],
      "text/latex": [
       "A tibble: 7 × 4\n",
       "\\begin{tabular}{llll}\n",
       " variable & type & n\\_levels & have\\_NA\\\\\n",
       " <chr> & <chr> & <int> & <lgl>\\\\\n",
       "\\hline\n",
       "\t total\\_bill & numeric & NA & FALSE\\\\\n",
       "\t tip        & numeric & NA & FALSE\\\\\n",
       "\t sex        & factor  &  2 & FALSE\\\\\n",
       "\t smoker     & factor  &  2 & FALSE\\\\\n",
       "\t day        & factor  &  4 & FALSE\\\\\n",
       "\t time       & factor  &  2 & FALSE\\\\\n",
       "\t size       & integer & NA & FALSE\\\\\n",
       "\\end{tabular}\n"
      ],
      "text/markdown": [
       "\n",
       "A tibble: 7 × 4\n",
       "\n",
       "| variable &lt;chr&gt; | type &lt;chr&gt; | n_levels &lt;int&gt; | have_NA &lt;lgl&gt; |\n",
       "|---|---|---|---|\n",
       "| total_bill | numeric | NA | FALSE |\n",
       "| tip        | numeric | NA | FALSE |\n",
       "| sex        | factor  |  2 | FALSE |\n",
       "| smoker     | factor  |  2 | FALSE |\n",
       "| day        | factor  |  4 | FALSE |\n",
       "| time       | factor  |  2 | FALSE |\n",
       "| size       | integer | NA | FALSE |\n",
       "\n"
      ],
      "text/plain": [
       "           variable   type    n_levels have_NA\n",
       "total_bill total_bill numeric NA       FALSE  \n",
       "tip        tip        numeric NA       FALSE  \n",
       "sex        sex        factor   2       FALSE  \n",
       "smoker     smoker     factor   2       FALSE  \n",
       "day        day        factor   4       FALSE  \n",
       "time       time       factor   2       FALSE  \n",
       "size       size       integer NA       FALSE  "
      ]
     },
     "metadata": {},
     "output_type": "display_data"
    }
   ],
   "source": [
    "cat(\"Dataset contains\", nrow(data_tips), \"observations and\", ncol(data_tips), \"variables.\\n\\n\")\n",
    "summary_table <- tibble(\n",
    "  variable = names(data_tips),\n",
    "  type = sapply(data_tips, function(x) class(x)[1]),\n",
    "  n_levels = sapply(data_tips, function(x) if(is.factor(x)) nlevels(x) else NA),\n",
    "  have_NA = sapply(data_tips, function(x) any(is.na(x)))\n",
    ")\n",
    "summary_table"
   ]
  },
  {
   "cell_type": "markdown",
   "metadata": {},
   "source": [
    "Above is a summary table for our dataset. Except for `tip`, we have 4 categorical variables and 2 numerical variables. There are no missing values."
   ]
  },
  {
   "cell_type": "markdown",
   "metadata": {},
   "source": [
    "### Visualization 1"
   ]
  },
  {
   "cell_type": "code",
   "execution_count": null,
   "metadata": {
    "vscode": {
     "languageId": "r"
    }
   },
   "outputs": [
    {
     "data": {
      "image/png": "[encoded data removed]",
      "text/plain": [
       "plot without title"
      ]
     },
     "metadata": {
      "image/png": {
       "height": 420,
       "width": 420
      }
     },
     "output_type": "display_data"
    }
   ],
   "source": [
    "# Main developer: Iris Caglayan\n",
    "# Contributor: Wanqing Hu\n",
    "\n",
    "# transform size into factor type for visualization\n",
    "data_size_as_fac <- data_tips %>% mutate(\n",
    "    day = factor(day, levels = unique(day)),\n",
    "    time = as.factor(time),\n",
    "    size = factor(size, levels= unique(size))\n",
    ")\n",
    "\n",
    "visualization <- ggplot(data_size_as_fac, aes(x = day, y = tip, fill = time)) +\n",
    "  geom_boxplot(alpha = 0.7, outlier.shape = NA) + \n",
    "  geom_jitter(aes(color = size), width = 0.2, alpha = 0.6, size = 2.5) +  # Transparent and smaller points\n",
    "  scale_color_manual(values = c(\"1\"=\"yellow\", \"2\"=\"blue\", \"3\"=\"purple\", \"4\"= \"green\", \"5\"=\"pink\", \"6\"= \"brown\")) +  \n",
    "labs(\n",
    "    title = \"Time of Day, Day of the Week and Amount of Tip\",\n",
    "      subtitle = \"Showing the Tipping Distribution per Party Size\",\n",
    "    x = \"Day of the Week\",\n",
    "    y = \"Tip Amount in USD\",\n",
    "    fill = \"Meal Time\",\n",
    "    color = \"Party Size\"\n",
    "  )\n",
    "visualization"
   ]
  },
  {
   "cell_type": "markdown",
   "metadata": {},
   "source": [
    "This plot shows how tip amounts vary across days and meal times, with point color indicating party size. The range of tips differs by day of the week, with Saturday showing several higher values. Additionally, tips tend to be larger during dinner compared to lunch."
   ]
  },
  {
   "cell_type": "markdown",
   "metadata": {},
   "source": [
    "### Visualization 2"
   ]
  },
  {
   "cell_type": "code",
   "execution_count": null,
   "metadata": {
    "vscode": {
     "languageId": "r"
    }
   },
   "outputs": [
    {
     "data": {
      "image/png": "[encoded data removed]",
      "text/plain": [
       "plot without title"
      ]
     },
     "metadata": {
      "image/png": {
       "height": 420,
       "width": 420
      }
     },
     "output_type": "display_data"
    }
   ],
   "source": [
    "# Main developer: Wanqing Hu\n",
    "# Contributor: Wanqing Hu\n",
    "\n",
    "ggplot(data_tips, aes(x = total_bill, y = tip, color = sex, size = size)) +\n",
    "  geom_point(alpha = 0.7) +\n",
    "  facet_wrap(~ day, nrow = 2) +\n",
    "  labs(\n",
    "    title = \"Tip versus Total Bill by Day\",\n",
    "    x = \"Total Bill (USD)\", \n",
    "    y = \"Tip (USD)\"\n",
    "  ) +\n",
    "  theme(legend.position = \"bottom\")"
   ]
  },
  {
   "cell_type": "markdown",
   "metadata": {},
   "source": [
    "This graph shows the relationship between tip and total bill, with point size indicating party size and color representing gender. There appears to be a strong linear association between total bill and tip. While a few high tips are visible on Saturday, they are reasonable within the context of the data and not extreme relative to other points. Therefore, no transformations or removals will be applied to our data."
   ]
  },
  {
   "cell_type": "markdown",
   "metadata": {},
   "source": [
    "#### Plan"
   ]
  },
  {
   "cell_type": "markdown",
   "metadata": {},
   "source": [
    "##### Method:\n",
    "1. Data would be splited into two portions with rate of 70%-30%, to create a training set and selection set.\n",
    "2. The backward selection algorithm is deployed to to construct a multiple linear regression model using the training set, and models with different set of explanatory varibables would be evaluated with AIC. \n",
    "3. The multiple $R^2$ will be used to evaluate the model by calculating the proportion of the variation in tips explained by the model when applied to the selection set.   \n",
    "\n",
    "##### Justification of Method Used:\n",
    "Given that we want to find out which set of explanatory variables from the total set given are significant for model-fitting and making inferences, starting off with the full set of available input variables and eliminating from there makes sense since there are only 6 input variables and the computational effort required is reasonable. Previous exploratory data analysis and subsequent discussion within the group have revealed that there is insufficient data for proper comparison within categories - for example, insufficient lunch and dinner data for certain days of the week as seen from Visualisation 1. Hence, using a criterion that selects categorical variables as a whole rather than by specific levels would be better in this case because there is not enough information to accurately make such specific selections. A multiple linear regression is used because the response variable, amount of tips given, is a continuous variable and there are several input variables that are being taken into account. The multiple $R^2$ is used for model evaluation because it evaluates the proportion of the variance of the amount of tips (response variable) explained by the model with penalisation to compensate for the model's size. This allows us to check if the model fits the data well enough for inferences to be made.\n",
    "\n",
    "##### Assumptions required:\n",
    "* There is a linear relationship between the response and input variables.\n",
    "* Errors are independent of each other\n",
    "* The conditional distribution of error terms is normal\n",
    "* The variance of the error terms are approximately equal\n",
    "* No multicollinearity exists among the variables"
   ]
  },
  {
   "cell_type": "code",
   "execution_count": null,
   "metadata": {
    "vscode": {
     "languageId": "r"
    }
   },
   "outputs": [],
   "source": [
    "# Main developer: Jia Xin Tan\n",
    "# Contributor: Jiaming Chang\n",
    "\n",
    "# set up random see\n",
    "set.seed(120)\n",
    "\n",
    "# tidy the data: change the data type from strings to factors\n",
    "tips_tidied <- data_tips |> \n",
    "    mutate(sex = factor(sex),\n",
    "           smoker = factor(ifelse(smoker == \"Yes\", \"Smoker\", \"Non-smoker\")),\n",
    "           day = factor(day),\n",
    "           time = factor(time), \n",
    "           size = factor(size))"
   ]
  },
  {
   "cell_type": "code",
   "execution_count": null,
   "metadata": {
    "vscode": {
     "languageId": "r"
    }
   },
   "outputs": [],
   "source": [
    "# Main developer: Jia Xin Tan\n",
    "# Contributor: Jiaming Chang\n",
    "\n",
    "# Data splitting process: \n",
    "# 70% of the data is splitted from the whole dataset, stored as `tips_train`, and used for backward selection process.\n",
    "# the other 30% of dataset is stored as `tips_select` for evaluation.\n",
    "tips_sample <- \n",
    "    tips_tidied |>\n",
    "    mutate(id = row_number())\n",
    "\n",
    "tips_train <- tips_sample |> \n",
    "    slice_sample(prop = 0.7, replace = FALSE)\n",
    "\n",
    "tips_select <- tips_sample |>\n",
    "    anti_join(tips_train, by = \"id\")\n",
    "\n",
    "tips_train <- tips_train |> \n",
    "    dplyr::select(- \"id\")\n",
    "\n",
    "tips_select <- tips_select |>\n",
    "    dplyr::select(- \"id\")"
   ]
  },
  {
   "cell_type": "code",
   "execution_count": null,
   "metadata": {
    "vscode": {
     "languageId": "r"
    }
   },
   "outputs": [
    {
     "name": "stdout",
     "output_type": "stream",
     "text": [
      "Start:  AIC=69.04\n",
      "tip ~ total_bill + sex + smoker + day + time + size\n",
      "\n",
      "             Df Sum of Sq    RSS     AIC\n",
      "- size        5     4.316 176.60  47.563\n",
      "- day         3     2.713 175.00  56.285\n",
      "- time        1     0.037 172.32  63.937\n",
      "- sex         1     0.039 172.32  63.939\n",
      "- smoker      1     0.237 172.52  64.134\n",
      "<none>                    172.29  69.036\n",
      "- total_bill  1    65.548 237.83 118.711\n",
      "\n",
      "Step:  AIC=47.56\n",
      "tip ~ total_bill + sex + smoker + day + time\n",
      "\n",
      "             Df Sum of Sq    RSS     AIC\n",
      "- day         3     2.622 179.22  34.661\n",
      "- time        1     0.015 176.62  42.442\n",
      "- sex         1     0.190 176.79  42.611\n",
      "- smoker      1     0.901 177.50  43.293\n",
      "<none>                    176.60  47.563\n",
      "- total_bill  1   120.388 296.99 130.793\n",
      "\n",
      "Step:  AIC=34.66\n",
      "tip ~ total_bill + sex + smoker + time\n",
      "\n",
      "             Df Sum of Sq    RSS     AIC\n",
      "- time        1     0.021 179.25  29.546\n",
      "- sex         1     0.115 179.34  29.635\n",
      "- smoker      1     2.326 181.55  31.718\n",
      "<none>                    179.22  34.661\n",
      "- total_bill  1   125.487 304.71 119.749\n",
      "\n",
      "Step:  AIC=29.55\n",
      "tip ~ total_bill + sex + smoker\n",
      "\n",
      "             Df Sum of Sq    RSS     AIC\n",
      "- sex         1     0.104 179.35  24.509\n",
      "- smoker      1     2.313 181.56  26.590\n",
      "<none>                    179.25  29.546\n",
      "- total_bill  1   128.912 308.16 116.526\n",
      "\n",
      "Step:  AIC=24.51\n",
      "tip ~ total_bill + smoker\n",
      "\n",
      "             Df Sum of Sq    RSS     AIC\n",
      "- smoker      1     2.291 181.64  21.531\n",
      "<none>                    179.35  24.509\n",
      "- total_bill  1   129.659 309.01 111.858\n",
      "\n",
      "Step:  AIC=21.53\n",
      "tip ~ total_bill\n",
      "\n",
      "             Df Sum of Sq    RSS     AIC\n",
      "<none>                    181.64  21.531\n",
      "- total_bill  1    127.98 309.62 107.060\n"
     ]
    },
    {
     "data": {
      "text/plain": [
       "\n",
       "Call:\n",
       "lm(formula = tip ~ total_bill, data = tips_train)\n",
       "\n",
       "Residuals:\n",
       "    Min      1Q  Median      3Q     Max \n",
       "-3.1506 -0.5715 -0.1240  0.4466  3.8546 \n",
       "\n",
       "Coefficients:\n",
       "            Estimate Std. Error t value Pr(>|t|)    \n",
       "(Intercept) 0.988626   0.200303   4.936 1.91e-06 ***\n",
       "total_bill  0.101492   0.009329  10.880  < 2e-16 ***\n",
       "---\n",
       "Signif. codes:  0 '***' 0.001 '**' 0.01 '*' 0.05 '.' 0.1 ' ' 1\n",
       "\n",
       "Residual standard error: 1.04 on 168 degrees of freedom\n",
       "Multiple R-squared:  0.4133,\tAdjusted R-squared:  0.4099 \n",
       "F-statistic: 118.4 on 1 and 168 DF,  p-value: < 2.2e-16\n"
      ]
     },
     "metadata": {},
     "output_type": "display_data"
    }
   ],
   "source": [
    "# Main developer: Jia Xin Tan\n",
    "# Contributor: Jiaming Chang\n",
    "\n",
    "# Backward selection process, the metric is BIC\n",
    "tips_model <- lm(tip ~ ., data = tips_train)\n",
    "n <- nrow(tips_train)\n",
    "tips_null <- lm(tip ~ 1, data = tips_train)\n",
    "\n",
    "# Run stepwise selection with BIC (k = log(n))\n",
    "tips_bwd_bic <- stepAIC(tips_model, \n",
    "                       direction = \"backward\",\n",
    "                       k = log(n), \n",
    "                       trace = 2)   # Set to 2 for detailed output\n",
    "summary(tips_bwd_bic)"
   ]
  },
  {
   "cell_type": "markdown",
   "metadata": {},
   "source": [
    "##### Visualization of variable selection process"
   ]
  },
  {
   "cell_type": "code",
   "execution_count": null,
   "metadata": {
    "vscode": {
     "languageId": "r"
    }
   },
   "outputs": [
    {
     "data": {
      "image/png": "[encoded data removed]",
      "text/plain": [
       "plot without title"
      ]
     },
     "metadata": {
      "image/png": {
       "height": 420,
       "width": 420
      }
     },
     "output_type": "display_data"
    }
   ],
   "source": [
    "# Main developer: Jiaming Chang\n",
    "# Contributor: Jiaming Chang\n",
    "\n",
    "# Extract BIC values for each step.\n",
    "bic_values <- c(BIC(tips_model), tips_bwd_bic$anova$AIC + (log(n)-2)*(n-1))\n",
    "plot_data <- data.frame(\n",
    "  Step = 0:(length(bic_values)-1),\n",
    "  BIC = bic_values\n",
    ")\n",
    "\n",
    "# Plot the steps and BIC value for stepwise selection\n",
    "ggplot(plot_data, aes(x = Step, y = BIC)) +\n",
    "  geom_line(color = \"red\", linewidth = 1) +\n",
    "  geom_point(color = \"black\", size = 3) +\n",
    "  geom_hline(yintercept = min(bic_values), linetype = \"dashed\", color = \"blue\") +\n",
    "  labs(title = \"Figure 1: BIC Values During Backward Selection\",\n",
    "       subtitle = paste(\"Optimal model at Step\", which.min(bic_values)-1),\n",
    "       x = \"Step Number\",\n",
    "       y = \"BIC\") +\n",
    "  theme_minimal() +\n",
    "  scale_x_continuous(breaks = plot_data$Step) +\n",
    "  geom_text(aes(label = round(BIC, 1)), vjust = -1)"
   ]
  },
  {
   "cell_type": "code",
   "execution_count": null,
   "metadata": {
    "vscode": {
     "languageId": "r"
    }
   },
   "outputs": [
    {
     "data": {
      "text/plain": [
       "\n",
       "Call:\n",
       "lm(formula = tip ~ total_bill, data = tips_select)\n",
       "\n",
       "Residuals:\n",
       "    Min      1Q  Median      3Q     Max \n",
       "-2.3487 -0.5653 -0.0249  0.5179  3.1231 \n",
       "\n",
       "Coefficients:\n",
       "            Estimate Std. Error t value Pr(>|t|)    \n",
       "(Intercept)  0.79479    0.26596   2.988  0.00383 ** \n",
       "total_bill   0.11144    0.01199   9.293 5.96e-14 ***\n",
       "---\n",
       "Signif. codes:  0 '***' 0.001 '**' 0.01 '*' 0.05 '.' 0.1 ' ' 1\n",
       "\n",
       "Residual standard error: 0.991 on 72 degrees of freedom\n",
       "Multiple R-squared:  0.5454,\tAdjusted R-squared:  0.539 \n",
       "F-statistic: 86.36 on 1 and 72 DF,  p-value: 5.956e-14\n"
      ]
     },
     "metadata": {},
     "output_type": "display_data"
    }
   ],
   "source": [
    "# Main developer: Jia Xin Tan\n",
    "# Contributor: Jiaming Chang\n",
    "\n",
    "# Evaluate the model with the 30% of original dataset\n",
    "tips_select_bwd <- lm(tip ~ total_bill, tips_select)\n",
    "\n",
    "# print out information for this evaluation\n",
    "tips_eval <- summary(tips_select_bwd)\n",
    "tips_eval"
   ]
  },
  {
   "cell_type": "markdown",
   "metadata": {},
   "source": [
    "##### Interpretation of results:\n",
    "As seen from the analysis above, the chosen model unexpectedly ends up as a single linear regression with only one input variable, total bill, chosen. The multiple R-squared is 0.5454, which means the total bill is associated with about 54.54% of the variation in tip amount - a moderate association. The fact that only total bill was selected could mean potential multicollinearity with the other input variables or that there is a lack of strong relationships between the other input variables and the amount of tips given. \n",
    "\n",
    "Since the final model contains only one covariate, it is clear that the model does not contain variables with high collinearity. "
   ]
  },
  {
   "cell_type": "markdown",
   "metadata": {},
   "source": [
    "### Discussion\n",
    "\n",
    "The main goal of this project was to identify the factors that have a stronger relationship with tipping behavior. Surprisingly, the final model suggested total bill as the only significant predictor. This variable accounts for about 54.54% of the variation in tip amounts within the selected dataset. The final model excluded other variables—such as gender, smoker status, day, time, and party size—that did not significantly influence the tip amount. These results suggest that the total bill amount is the strongest—and maybe only significant—predictor of the tip amount in this dataset.\n",
    "\n",
    "Studies by Lynn (2015) and Parrett (2023) have underlined the influence of sociopsychological factors—including smoking status and gender—on tipping behavior. However, within this dataset, the suggested sociopsychological relationship on tipping behavior was not observed. This might be because this effect is not significant enough to notice, hidden by multicollinearity, or unevenly represented in the dataset (for example, on certain days, there are far more dinner data than lunch data (Visualization 1)). This research could be improved in various ways. First, using a more balanced dataset with an even representation of the data. The dataset's imbalance and relatively small size could have limited the model's ability to detect more subtle correlations and generalizability to different conditions. Additionally, to improve the strength of association and address model concerns, including interaction terms — such as between time and day or between gender and smoker status — might lead to the identification of significant relationships between input variables that were not captured by our additive model.\n",
    "\n",
    "These findings point to several interesting directions for future studies. First, examining the influence of cultural or geographical data on tipping culture could be one area of study. For example, while tipping higher amounts — approximately 20% —  is culturally ingrained, tipping is less prevalent and usually more modest in many European cultures. Secondly, including socioeconomic and in-depth psychological factors will help close the gap between monetary predictors and the more complicated sociopsychological causes of tipping behavior. While psychological data can describe personal satisfaction or values, socioeconomic elements might show how tipping is affected by financial ability and knowledge of social norms. These insights can provide a deeper understanding of tipping behavior and enable restaurants to create more focused marketing plans that resonate with their desired customer segment.\n",
    "\n",
    "Finally, the results of this study demonstrate the anticipated strong correlation between the tipping culture and the total bill amount. Furthermore, the results also show that in order to completely identify and understand the connection between sociopsychological factors and tipping behaviour, a more comprehensive and intricate dataset or an alternative approach to the dataset is required.\n"
   ]
  },
  {
   "cell_type": "markdown",
   "metadata": {},
   "source": [
    "### References"
   ]
  },
  {
   "cell_type": "markdown",
   "metadata": {},
   "source": [
    "* Badole, S. (2025). *Restaurant Tips Dataset*. Retrieved from [https://www.kaggle.com/datasets/saurabhbadole/restaurant-tips-dataset](https://www.kaggle.com/datasets/saurabhbadole/restaurant-tips-dataset)\n",
    "\n",
    "* Lynn, M. (2015). Service gratuities and tipping: A motivational framework. *Journal of Economic Psychology*, 46, 74-88. https://doi.org/10.1016/j.joep.2014.12.002\n",
    "\n",
    "* Parrett, M. (2023). Gender differences in altruism and the price of altruism: Evidence from restaurant tips. *Applied Economics Letters*, 30(8), 1097-1100. https://doi.org/10.1080/13504851.2022.2036678"
   ]
  }
 ],
 "metadata": {
  "kernelspec": {
   "display_name": "R",
   "language": "R",
   "name": "ir"
  },
  "language_info": {
   "codemirror_mode": "r",
   "file_extension": ".r",
   "mimetype": "text/x-r-source",
   "name": "R",
   "pygments_lexer": "r",
   "version": "4.3.3"
  }
 },
 "nbformat": 4,
 "nbformat_minor": 4
}
