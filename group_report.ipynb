{
 "cells": [
  {
   "cell_type": "markdown",
   "metadata": {},
   "source": [
    "## Best Predictor in Predicting Tips: A STAT 301 Case Study Project"
   ]
  },
  {
   "cell_type": "code",
   "execution_count": 1,
   "metadata": {
    "vscode": {
     "languageId": "r"
    }
   },
   "outputs": [
    {
     "name": "stderr",
     "output_type": "stream",
     "text": [
      "── \u001b[1mAttaching core tidyverse packages\u001b[22m ──────────────────────────────────────────────────────────────── tidyverse 2.0.0 ──\n",
      "\u001b[32m✔\u001b[39m \u001b[34mdplyr    \u001b[39m 1.1.4     \u001b[32m✔\u001b[39m \u001b[34mreadr    \u001b[39m 2.1.5\n",
      "\u001b[32m✔\u001b[39m \u001b[34mforcats  \u001b[39m 1.0.0     \u001b[32m✔\u001b[39m \u001b[34mstringr  \u001b[39m 1.5.1\n",
      "\u001b[32m✔\u001b[39m \u001b[34mggplot2  \u001b[39m 3.5.1     \u001b[32m✔\u001b[39m \u001b[34mtibble   \u001b[39m 3.2.1\n",
      "\u001b[32m✔\u001b[39m \u001b[34mlubridate\u001b[39m 1.9.4     \u001b[32m✔\u001b[39m \u001b[34mtidyr    \u001b[39m 1.3.1\n",
      "\u001b[32m✔\u001b[39m \u001b[34mpurrr    \u001b[39m 1.0.2     \n",
      "── \u001b[1mConflicts\u001b[22m ────────────────────────────────────────────────────────────────────────────────── tidyverse_conflicts() ──\n",
      "\u001b[31m✖\u001b[39m \u001b[34mdplyr\u001b[39m::\u001b[32mfilter()\u001b[39m masks \u001b[34mstats\u001b[39m::filter()\n",
      "\u001b[31m✖\u001b[39m \u001b[34mdplyr\u001b[39m::\u001b[32mlag()\u001b[39m    masks \u001b[34mstats\u001b[39m::lag()\n",
      "\u001b[36mℹ\u001b[39m Use the conflicted package (\u001b[3m\u001b[34m<http://conflicted.r-lib.org/>\u001b[39m\u001b[23m) to force all conflicts to become errors\n"
     ]
    }
   ],
   "source": [
    "# Load packages\n",
    "library(tidyverse)\n",
    "library(ggplot2)"
   ]
  },
  {
   "cell_type": "markdown",
   "metadata": {},
   "source": [
    "### Introduction"
   ]
  },
  {
   "cell_type": "markdown",
   "metadata": {},
   "source": [
    "In North America, tips are a customary amount of money given to the staff at dining establishments as a form of compliment or token of appreciation for their service. Typically, they are calculated as a percentage of the meal's price or customised based on consumers' discretion. Tipping behaviour is a subject of great interest across business industries and the social sciences as people understandably want to figure out how to earn more money and understand this interesting social phenomenon. Existing studies such as those by Michael Lynn, explore how tipping in the United States is influenced by people's beliefs across various situations (2015). Other studies study how tipping outcomes vary by gender and how this reflects differences in altruism (Parrett, 2023). \n",
    "\n",
    "Given the restaurant tips dataset from kaggle (Badole, 2025), it would be fruitful to explore the relationships between several variables and the tipping amount in order to try and understand what really drives tipping behaviour. The studies mentioned above explore the tipping phenomenon from a socio-psychological perspective which we would like to find out given that our dataset has variables such as whether the tipper is a smoker and the gender of the tipper. However, we would also like to explore more of the practical aspects - the time or day when customers have a meal and how large their party size is - and their relation to the amount of tips given. The relationship between tips and gender has been explored in prior literature, but there is not much research that has been done exploring the variety of variables available in this tips dataset. This project thus seeks to find out which set of these input variables best explain the variation in the amount of tips. The primary goal of this investigation is inference. Results could potentially be useful for restaurants to adjust their marketing strategies and optimise their returns from service. Finding out which factors interact significantly with tip amounts would also be advantageous for developing future predictive algorithms that aim to predict amount of tips based on consumer transaction data."
   ]
  },
  {
   "cell_type": "markdown",
   "metadata": {},
   "source": [
    "##### Data Description\n",
    "This dataset is obtained from https://www.kaggle.com/datasets/saurabhbadole/restaurant-tips-dataset.\n",
    "\n",
    "Collected from a popular restaurant over a specified period, this dataset looks into the tipping behavior in a restaurant setting. In this dataset, there are in total 244 observations, and 7 variables.\n",
    "    \n",
    "Table of variables used:\n",
    "| Variable Name | Discription | Type |\n",
    "| :---: | :---: | :---: |\n",
    "|total_bill| total bill amount in dollars|Numerical, independent variable|\n",
    "|sex| Gender of the person paying the bill (Male/Female)|Categorical, independent variable|\n",
    "|smoker|Whether the person is a smoker (Yes/No) |Categorical, independent variable|\n",
    "|day|Day of the week when the transaction took place (Thur/Fri/Sat/Sun)|Categorical, independent variable|\n",
    "|time|Time of day when the transaction took place (Lunch/Dinner)|Categorical, independent variable|\n",
    "|size|Size of the dining party (number of people)|Numerical, independent variable|\n",
    "|tip|Tip amount in dollars|Numerical, target variable|"
   ]
  },
  {
   "cell_type": "markdown",
   "metadata": {},
   "source": [
    "##### Research Question"
   ]
  },
  {
   "cell_type": "markdown",
   "metadata": {},
   "source": [
    "*Which set of input variables available in the tips dataset best explain the variation in the amount of tips?*"
   ]
  },
  {
   "cell_type": "markdown",
   "metadata": {},
   "source": [
    "### Methods and Results"
   ]
  },
  {
   "cell_type": "markdown",
   "metadata": {},
   "source": [
    "#### Exploratory Data Analysis (EDA)"
   ]
  },
  {
   "cell_type": "code",
   "execution_count": 9,
   "metadata": {
    "vscode": {
     "languageId": "r"
    }
   },
   "outputs": [
    {
     "data": {
      "text/html": [
       "<table class=\"dataframe\">\n",
       "<caption>A data.frame: 6 × 7</caption>\n",
       "<thead>\n",
       "\t<tr><th></th><th scope=col>total_bill</th><th scope=col>tip</th><th scope=col>sex</th><th scope=col>smoker</th><th scope=col>day</th><th scope=col>time</th><th scope=col>size</th></tr>\n",
       "\t<tr><th></th><th scope=col>&lt;dbl&gt;</th><th scope=col>&lt;dbl&gt;</th><th scope=col>&lt;chr&gt;</th><th scope=col>&lt;chr&gt;</th><th scope=col>&lt;chr&gt;</th><th scope=col>&lt;chr&gt;</th><th scope=col>&lt;int&gt;</th></tr>\n",
       "</thead>\n",
       "<tbody>\n",
       "\t<tr><th scope=row>1</th><td>16.99</td><td>1.01</td><td>Female</td><td>No</td><td>Sun</td><td>Dinner</td><td>2</td></tr>\n",
       "\t<tr><th scope=row>2</th><td>10.34</td><td>1.66</td><td>Male  </td><td>No</td><td>Sun</td><td>Dinner</td><td>3</td></tr>\n",
       "\t<tr><th scope=row>3</th><td>21.01</td><td>3.50</td><td>Male  </td><td>No</td><td>Sun</td><td>Dinner</td><td>3</td></tr>\n",
       "\t<tr><th scope=row>4</th><td>23.68</td><td>3.31</td><td>Male  </td><td>No</td><td>Sun</td><td>Dinner</td><td>2</td></tr>\n",
       "\t<tr><th scope=row>5</th><td>24.59</td><td>3.61</td><td>Female</td><td>No</td><td>Sun</td><td>Dinner</td><td>4</td></tr>\n",
       "\t<tr><th scope=row>6</th><td>25.29</td><td>4.71</td><td>Male  </td><td>No</td><td>Sun</td><td>Dinner</td><td>4</td></tr>\n",
       "</tbody>\n",
       "</table>\n"
      ],
      "text/latex": [
       "A data.frame: 6 × 7\n",
       "\\begin{tabular}{r|lllllll}\n",
       "  & total\\_bill & tip & sex & smoker & day & time & size\\\\\n",
       "  & <dbl> & <dbl> & <chr> & <chr> & <chr> & <chr> & <int>\\\\\n",
       "\\hline\n",
       "\t1 & 16.99 & 1.01 & Female & No & Sun & Dinner & 2\\\\\n",
       "\t2 & 10.34 & 1.66 & Male   & No & Sun & Dinner & 3\\\\\n",
       "\t3 & 21.01 & 3.50 & Male   & No & Sun & Dinner & 3\\\\\n",
       "\t4 & 23.68 & 3.31 & Male   & No & Sun & Dinner & 2\\\\\n",
       "\t5 & 24.59 & 3.61 & Female & No & Sun & Dinner & 4\\\\\n",
       "\t6 & 25.29 & 4.71 & Male   & No & Sun & Dinner & 4\\\\\n",
       "\\end{tabular}\n"
      ],
      "text/markdown": [
       "\n",
       "A data.frame: 6 × 7\n",
       "\n",
       "| <!--/--> | total_bill &lt;dbl&gt; | tip &lt;dbl&gt; | sex &lt;chr&gt; | smoker &lt;chr&gt; | day &lt;chr&gt; | time &lt;chr&gt; | size &lt;int&gt; |\n",
       "|---|---|---|---|---|---|---|---|\n",
       "| 1 | 16.99 | 1.01 | Female | No | Sun | Dinner | 2 |\n",
       "| 2 | 10.34 | 1.66 | Male   | No | Sun | Dinner | 3 |\n",
       "| 3 | 21.01 | 3.50 | Male   | No | Sun | Dinner | 3 |\n",
       "| 4 | 23.68 | 3.31 | Male   | No | Sun | Dinner | 2 |\n",
       "| 5 | 24.59 | 3.61 | Female | No | Sun | Dinner | 4 |\n",
       "| 6 | 25.29 | 4.71 | Male   | No | Sun | Dinner | 4 |\n",
       "\n"
      ],
      "text/plain": [
       "  total_bill tip  sex    smoker day time   size\n",
       "1 16.99      1.01 Female No     Sun Dinner 2   \n",
       "2 10.34      1.66 Male   No     Sun Dinner 3   \n",
       "3 21.01      3.50 Male   No     Sun Dinner 3   \n",
       "4 23.68      3.31 Male   No     Sun Dinner 2   \n",
       "5 24.59      3.61 Female No     Sun Dinner 4   \n",
       "6 25.29      4.71 Male   No     Sun Dinner 4   "
      ]
     },
     "metadata": {},
     "output_type": "display_data"
    },
    {
     "data": {
      "text/html": [
       "<table class=\"dataframe\">\n",
       "<caption>A data.frame: 6 × 7</caption>\n",
       "<thead>\n",
       "\t<tr><th></th><th scope=col>total_bill</th><th scope=col>tip</th><th scope=col>sex</th><th scope=col>smoker</th><th scope=col>day</th><th scope=col>time</th><th scope=col>size</th></tr>\n",
       "\t<tr><th></th><th scope=col>&lt;dbl&gt;</th><th scope=col>&lt;dbl&gt;</th><th scope=col>&lt;chr&gt;</th><th scope=col>&lt;chr&gt;</th><th scope=col>&lt;chr&gt;</th><th scope=col>&lt;chr&gt;</th><th scope=col>&lt;int&gt;</th></tr>\n",
       "</thead>\n",
       "<tbody>\n",
       "\t<tr><th scope=row>239</th><td>35.83</td><td>4.67</td><td>Female</td><td>No </td><td>Sat </td><td>Dinner</td><td>3</td></tr>\n",
       "\t<tr><th scope=row>240</th><td>29.03</td><td>5.92</td><td>Male  </td><td>No </td><td>Sat </td><td>Dinner</td><td>3</td></tr>\n",
       "\t<tr><th scope=row>241</th><td>27.18</td><td>2.00</td><td>Female</td><td>Yes</td><td>Sat </td><td>Dinner</td><td>2</td></tr>\n",
       "\t<tr><th scope=row>242</th><td>22.67</td><td>2.00</td><td>Male  </td><td>Yes</td><td>Sat </td><td>Dinner</td><td>2</td></tr>\n",
       "\t<tr><th scope=row>243</th><td>17.82</td><td>1.75</td><td>Male  </td><td>No </td><td>Sat </td><td>Dinner</td><td>2</td></tr>\n",
       "\t<tr><th scope=row>244</th><td>18.78</td><td>3.00</td><td>Female</td><td>No </td><td>Thur</td><td>Dinner</td><td>2</td></tr>\n",
       "</tbody>\n",
       "</table>\n"
      ],
      "text/latex": [
       "A data.frame: 6 × 7\n",
       "\\begin{tabular}{r|lllllll}\n",
       "  & total\\_bill & tip & sex & smoker & day & time & size\\\\\n",
       "  & <dbl> & <dbl> & <chr> & <chr> & <chr> & <chr> & <int>\\\\\n",
       "\\hline\n",
       "\t239 & 35.83 & 4.67 & Female & No  & Sat  & Dinner & 3\\\\\n",
       "\t240 & 29.03 & 5.92 & Male   & No  & Sat  & Dinner & 3\\\\\n",
       "\t241 & 27.18 & 2.00 & Female & Yes & Sat  & Dinner & 2\\\\\n",
       "\t242 & 22.67 & 2.00 & Male   & Yes & Sat  & Dinner & 2\\\\\n",
       "\t243 & 17.82 & 1.75 & Male   & No  & Sat  & Dinner & 2\\\\\n",
       "\t244 & 18.78 & 3.00 & Female & No  & Thur & Dinner & 2\\\\\n",
       "\\end{tabular}\n"
      ],
      "text/markdown": [
       "\n",
       "A data.frame: 6 × 7\n",
       "\n",
       "| <!--/--> | total_bill &lt;dbl&gt; | tip &lt;dbl&gt; | sex &lt;chr&gt; | smoker &lt;chr&gt; | day &lt;chr&gt; | time &lt;chr&gt; | size &lt;int&gt; |\n",
       "|---|---|---|---|---|---|---|---|\n",
       "| 239 | 35.83 | 4.67 | Female | No  | Sat  | Dinner | 3 |\n",
       "| 240 | 29.03 | 5.92 | Male   | No  | Sat  | Dinner | 3 |\n",
       "| 241 | 27.18 | 2.00 | Female | Yes | Sat  | Dinner | 2 |\n",
       "| 242 | 22.67 | 2.00 | Male   | Yes | Sat  | Dinner | 2 |\n",
       "| 243 | 17.82 | 1.75 | Male   | No  | Sat  | Dinner | 2 |\n",
       "| 244 | 18.78 | 3.00 | Female | No  | Thur | Dinner | 2 |\n",
       "\n"
      ],
      "text/plain": [
       "    total_bill tip  sex    smoker day  time   size\n",
       "239 35.83      4.67 Female No     Sat  Dinner 3   \n",
       "240 29.03      5.92 Male   No     Sat  Dinner 3   \n",
       "241 27.18      2.00 Female Yes    Sat  Dinner 2   \n",
       "242 22.67      2.00 Male   Yes    Sat  Dinner 2   \n",
       "243 17.82      1.75 Male   No     Sat  Dinner 2   \n",
       "244 18.78      3.00 Female No     Thur Dinner 2   "
      ]
     },
     "metadata": {},
     "output_type": "display_data"
    }
   ],
   "source": [
    "url <- \"https://raw.githubusercontent.com/JustinTrenchcoat/STAT_301_Personal_Project/refs/heads/main/tips.csv\"\n",
    "data_tips <- read.csv(url(url), header = TRUE)\n",
    "head(data_tips)\n",
    "tail(data_tips)"
   ]
  },
  {
   "cell_type": "markdown",
   "metadata": {},
   "source": [
    "The dataset is already in tidy format."
   ]
  },
  {
   "cell_type": "code",
   "execution_count": 12,
   "metadata": {
    "vscode": {
     "languageId": "r"
    }
   },
   "outputs": [],
   "source": [
    "# convert character variables into factors\n",
    "data_tips$sex <- as.factor(data_tips$sex)\n",
    "data_tips$smoker <- as.factor(data_tips$smoker)\n",
    "data_tips$day <- as.factor(data_tips$day)\n",
    "data_tips$time <- as.factor(data_tips$time)"
   ]
  },
  {
   "cell_type": "code",
   "execution_count": null,
   "metadata": {
    "vscode": {
     "languageId": "r"
    }
   },
   "outputs": [
    {
     "name": "stdout",
     "output_type": "stream",
     "text": [
      "Dataset contains 244 observations and 7 variables.\n",
      "\n"
     ]
    },
    {
     "data": {
      "text/html": [
       "<table class=\"dataframe\">\n",
       "<caption>A tibble: 7 × 4</caption>\n",
       "<thead>\n",
       "\t<tr><th scope=col>variable</th><th scope=col>type</th><th scope=col>n_levels</th><th scope=col>have_NA</th></tr>\n",
       "\t<tr><th scope=col>&lt;chr&gt;</th><th scope=col>&lt;chr&gt;</th><th scope=col>&lt;int&gt;</th><th scope=col>&lt;lgl&gt;</th></tr>\n",
       "</thead>\n",
       "<tbody>\n",
       "\t<tr><td>total_bill</td><td>numeric</td><td>NA</td><td>FALSE</td></tr>\n",
       "\t<tr><td>tip       </td><td>numeric</td><td>NA</td><td>FALSE</td></tr>\n",
       "\t<tr><td>sex       </td><td>factor </td><td> 2</td><td>FALSE</td></tr>\n",
       "\t<tr><td>smoker    </td><td>factor </td><td> 2</td><td>FALSE</td></tr>\n",
       "\t<tr><td>day       </td><td>factor </td><td> 4</td><td>FALSE</td></tr>\n",
       "\t<tr><td>time      </td><td>factor </td><td> 2</td><td>FALSE</td></tr>\n",
       "\t<tr><td>size      </td><td>integer</td><td>NA</td><td>FALSE</td></tr>\n",
       "</tbody>\n",
       "</table>\n"
      ],
      "text/latex": [
       "A tibble: 7 × 4\n",
       "\\begin{tabular}{llll}\n",
       " variable & type & n\\_levels & have\\_NA\\\\\n",
       " <chr> & <chr> & <int> & <lgl>\\\\\n",
       "\\hline\n",
       "\t total\\_bill & numeric & NA & FALSE\\\\\n",
       "\t tip        & numeric & NA & FALSE\\\\\n",
       "\t sex        & factor  &  2 & FALSE\\\\\n",
       "\t smoker     & factor  &  2 & FALSE\\\\\n",
       "\t day        & factor  &  4 & FALSE\\\\\n",
       "\t time       & factor  &  2 & FALSE\\\\\n",
       "\t size       & integer & NA & FALSE\\\\\n",
       "\\end{tabular}\n"
      ],
      "text/markdown": [
       "\n",
       "A tibble: 7 × 4\n",
       "\n",
       "| variable &lt;chr&gt; | type &lt;chr&gt; | n_levels &lt;int&gt; | have_NA &lt;lgl&gt; |\n",
       "|---|---|---|---|\n",
       "| total_bill | numeric | NA | FALSE |\n",
       "| tip        | numeric | NA | FALSE |\n",
       "| sex        | factor  |  2 | FALSE |\n",
       "| smoker     | factor  |  2 | FALSE |\n",
       "| day        | factor  |  4 | FALSE |\n",
       "| time       | factor  |  2 | FALSE |\n",
       "| size       | integer | NA | FALSE |\n",
       "\n"
      ],
      "text/plain": [
       "           variable   type    n_levels have_NA\n",
       "total_bill total_bill numeric NA       FALSE  \n",
       "tip        tip        numeric NA       FALSE  \n",
       "sex        sex        factor   2       FALSE  \n",
       "smoker     smoker     factor   2       FALSE  \n",
       "day        day        factor   4       FALSE  \n",
       "time       time       factor   2       FALSE  \n",
       "size       size       integer NA       FALSE  "
      ]
     },
     "metadata": {},
     "output_type": "display_data"
    }
   ],
   "source": [
    "cat(\"Dataset contains\", nrow(data_tips), \"observations and\", ncol(data_tips), \"variables.\\n\\n\")\n",
    "summary_table <- tibble(\n",
    "  variable = names(data_tips),\n",
    "  type = sapply(data_tips, function(x) class(x)[1]),\n",
    "  n_levels = sapply(data_tips, function(x) if(is.factor(x)) nlevels(x) else NA),\n",
    "  have_NA = sapply(data_tips, function(x) any(is.na(x)))\n",
    ")\n",
    "summary_table"
   ]
  },
  {
   "cell_type": "markdown",
   "metadata": {},
   "source": [
    "Above is a summary table for our dataset. Except for `tip`, we have 4 categorical variables and 2 numerical variables. There are no missing values."
   ]
  },
  {
   "cell_type": "markdown",
   "metadata": {},
   "source": [
    "### Visualization 1"
   ]
  },
  {
   "cell_type": "code",
   "execution_count": 18,
   "metadata": {
    "vscode": {
     "languageId": "r"
    }
   },
   "outputs": [
    {
     "data": {
      "image/png": "[encoded data removed]",
      "text/plain": [
       "plot without title"
      ]
     },
     "metadata": {
      "image/png": {
       "height": 420,
       "width": 420
      }
     },
     "output_type": "display_data"
    }
   ],
   "source": [
    "# transform size into factor type for visualization\n",
    "data_size_as_fac <- data_tips %>% mutate(\n",
    "    day = factor(day, levels = unique(day)),\n",
    "    time = as.factor(time),\n",
    "    size = factor(size, levels= unique(size))\n",
    ")\n",
    "\n",
    "visualization <- ggplot(data_size_as_fac, aes(x = day, y = tip, fill = time)) +\n",
    "  geom_boxplot(alpha = 0.7, outlier.shape = NA) + \n",
    "  geom_jitter(aes(color = size), width = 0.2, alpha = 0.6, size = 2.5) +  # Transparent and smaller points\n",
    "  scale_color_manual(values = c(\"1\"=\"yellow\", \"2\"=\"blue\", \"3\"=\"purple\", \"4\"= \"green\", \"5\"=\"pink\", \"6\"= \"brown\")) +  \n",
    "labs(\n",
    "    title = \"Time of Day and Day of the Week and Amount of Tip\",\n",
    "      subtitle = \"Showing the Tipping Distribution per Party Size\",\n",
    "    x = \"Day of the Week\",\n",
    "    y = \"Tip Amount in USD\",\n",
    "    fill = \"Meal Time\",\n",
    "    color = \"Party Size\"\n",
    "  )\n",
    "visualization"
   ]
  },
  {
   "cell_type": "markdown",
   "metadata": {},
   "source": [
    "This plot shows how tip amounts vary across days and meal times, with point color indicating party size. The range of tips differs by day of the week, with Saturday showing several higher values. Additionally, tips tend to be larger during dinner compared to lunch."
   ]
  },
  {
   "cell_type": "markdown",
   "metadata": {},
   "source": [
    "### Visualization 2"
   ]
  },
  {
   "cell_type": "code",
   "execution_count": 22,
   "metadata": {
    "vscode": {
     "languageId": "r"
    }
   },
   "outputs": [
    {
     "data": {
      "image/png": "[encoded data removed]",
      "text/plain": [
       "plot without title"
      ]
     },
     "metadata": {
      "image/png": {
       "height": 420,
       "width": 420
      }
     },
     "output_type": "display_data"
    }
   ],
   "source": [
    "ggplot(data_tips, aes(x = total_bill, y = tip, color = sex, size = size)) +\n",
    "  geom_point(alpha = 0.7) +\n",
    "  facet_wrap(~ day, nrow = 2) +\n",
    "  labs(\n",
    "    title = \"Tip versus Total Bill by Day\",\n",
    "    x = \"Total Bill (USD)\", \n",
    "    y = \"Tip (USD)\"\n",
    "  ) +\n",
    "  theme(legend.position = \"bottom\")"
   ]
  },
  {
   "cell_type": "markdown",
   "metadata": {},
   "source": [
    "This graph shows the relationship between tip and total bill, with point size indicating party size and color representing gender. There appears to be a strong linear association between total bill and tip. While a few high tips are visible on Saturday, they are reasonable within the context of the data and not extreme relative to other points. Therefore, no transformations or removals will be applied to our data."
   ]
  },
  {
   "cell_type": "markdown",
   "metadata": {},
   "source": [
    "### Discussion"
   ]
  },
  {
   "cell_type": "markdown",
   "metadata": {},
   "source": [
    "### References"
   ]
  },
  {
   "cell_type": "markdown",
   "metadata": {},
   "source": [
    "* Badole, S. (2025). *Restaurant Tips Dataset*. Retrieved from [https://www.kaggle.com/datasets/saurabhbadole/restaurant-tips-dataset](https://www.kaggle.com/datasets/saurabhbadole/restaurant-tips-dataset)\n",
    "\n",
    "* Lynn, M. (2015). Service gratuities and tipping: A motivational framework. *Journal of Economic Psychology*, 46, 74-88. https://doi.org/10.1016/j.joep.2014.12.002\n",
    "\n",
    "* Parrett, M. (2023). Gender differences in altruism and the price of altruism: Evidence from restaurant tips. *Applied Economics Letters*, 30(8), 1097-1100. https://doi.org/10.1080/13504851.2022.2036678"
   ]
  },
  {
   "cell_type": "markdown",
   "metadata": {},
   "source": []
  }
 ],
 "metadata": {
  "kernelspec": {
   "display_name": "R",
   "language": "R",
   "name": "ir"
  },
  "language_info": {
   "codemirror_mode": "r",
   "file_extension": ".r",
   "mimetype": "text/x-r-source",
   "name": "R",
   "pygments_lexer": "r",
   "version": "4.4.2"
  }
 },
 "nbformat": 4,
 "nbformat_minor": 4
}
