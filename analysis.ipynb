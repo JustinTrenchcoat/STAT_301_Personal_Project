{
 "cells": [
  {
   "cell_type": "code",
   "execution_count": 3,
   "metadata": {
    "vscode": {
     "languageId": "r"
    }
   },
   "outputs": [],
   "source": [
    "library(tidyverse)\n",
    "library(GGally)\n",
    "library(reshape2)\n",
    "library(leaps)"
   ]
  },
  {
   "cell_type": "markdown",
   "metadata": {},
   "source": [
    "## Data Description:\n",
    "This dataset is obtained from https://www.kaggle.com/datasets/saurabhbadole/restaurant-tips-dataset.  \n",
    "Collected from a popular restaurant over a specified period, this dataset looks into the tipping behavior in a restaurant setting. In this dataset, there are in total 244 observations, and 7 variables.  \n",
    "Table of variables used:\n",
    "| Variable Name | Discription | Type |\n",
    "| :---: | :---: | :---: |\n",
    "|total_bill| total bill amount in dollars|Numerical, independent variable|\n",
    "|sex| Gender of the person paying the bill (Male/Female)|Categorical, independent variable|\n",
    "|smoker|Whether the person is a smoker (Yes/No) |Categorical, independent variable|\n",
    "|day|Day of the week when the transaction took place (Thur/Fri/Sat/Sun)|Categorical, independent variable|\n",
    "|time|Time of day when the transaction took place (Lunch/Dinner)|Categorical, independent variable|\n",
    "|size|Size of the dining party (number of people)|Numerical, independent variable|\n",
    "|tip|Tip amount in dollars|Numerical, target variable|"
   ]
  },
  {
   "cell_type": "markdown",
   "metadata": {},
   "source": [
    "## Question:\n",
    "The reaserch question would be a predictive one:  \n",
    "Given that a party of 3 on a Friday dinner time with toal bill amount of $30, and the person who pays the bill is a female smoker, what would be the tip amount?"
   ]
  },
  {
   "cell_type": "markdown",
   "metadata": {},
   "source": [
    "## EDA and Visualization"
   ]
  },
  {
   "cell_type": "code",
   "execution_count": 9,
   "metadata": {
    "vscode": {
     "languageId": "r"
    }
   },
   "outputs": [
    {
     "data": {
      "text/html": [
       "<table class=\"dataframe\">\n",
       "<caption>A data.frame: 6 × 7</caption>\n",
       "<thead>\n",
       "\t<tr><th></th><th scope=col>total_bill</th><th scope=col>tip</th><th scope=col>sex</th><th scope=col>smoker</th><th scope=col>day</th><th scope=col>time</th><th scope=col>size</th></tr>\n",
       "\t<tr><th></th><th scope=col>&lt;dbl&gt;</th><th scope=col>&lt;dbl&gt;</th><th scope=col>&lt;chr&gt;</th><th scope=col>&lt;chr&gt;</th><th scope=col>&lt;chr&gt;</th><th scope=col>&lt;chr&gt;</th><th scope=col>&lt;int&gt;</th></tr>\n",
       "</thead>\n",
       "<tbody>\n",
       "\t<tr><th scope=row>1</th><td>16.99</td><td>1.01</td><td>Female</td><td>No</td><td>Sun</td><td>Dinner</td><td>2</td></tr>\n",
       "\t<tr><th scope=row>2</th><td>10.34</td><td>1.66</td><td>Male  </td><td>No</td><td>Sun</td><td>Dinner</td><td>3</td></tr>\n",
       "\t<tr><th scope=row>3</th><td>21.01</td><td>3.50</td><td>Male  </td><td>No</td><td>Sun</td><td>Dinner</td><td>3</td></tr>\n",
       "\t<tr><th scope=row>4</th><td>23.68</td><td>3.31</td><td>Male  </td><td>No</td><td>Sun</td><td>Dinner</td><td>2</td></tr>\n",
       "\t<tr><th scope=row>5</th><td>24.59</td><td>3.61</td><td>Female</td><td>No</td><td>Sun</td><td>Dinner</td><td>4</td></tr>\n",
       "\t<tr><th scope=row>6</th><td>25.29</td><td>4.71</td><td>Male  </td><td>No</td><td>Sun</td><td>Dinner</td><td>4</td></tr>\n",
       "</tbody>\n",
       "</table>\n"
      ],
      "text/latex": [
       "A data.frame: 6 × 7\n",
       "\\begin{tabular}{r|lllllll}\n",
       "  & total\\_bill & tip & sex & smoker & day & time & size\\\\\n",
       "  & <dbl> & <dbl> & <chr> & <chr> & <chr> & <chr> & <int>\\\\\n",
       "\\hline\n",
       "\t1 & 16.99 & 1.01 & Female & No & Sun & Dinner & 2\\\\\n",
       "\t2 & 10.34 & 1.66 & Male   & No & Sun & Dinner & 3\\\\\n",
       "\t3 & 21.01 & 3.50 & Male   & No & Sun & Dinner & 3\\\\\n",
       "\t4 & 23.68 & 3.31 & Male   & No & Sun & Dinner & 2\\\\\n",
       "\t5 & 24.59 & 3.61 & Female & No & Sun & Dinner & 4\\\\\n",
       "\t6 & 25.29 & 4.71 & Male   & No & Sun & Dinner & 4\\\\\n",
       "\\end{tabular}\n"
      ],
      "text/markdown": [
       "\n",
       "A data.frame: 6 × 7\n",
       "\n",
       "| <!--/--> | total_bill &lt;dbl&gt; | tip &lt;dbl&gt; | sex &lt;chr&gt; | smoker &lt;chr&gt; | day &lt;chr&gt; | time &lt;chr&gt; | size &lt;int&gt; |\n",
       "|---|---|---|---|---|---|---|---|\n",
       "| 1 | 16.99 | 1.01 | Female | No | Sun | Dinner | 2 |\n",
       "| 2 | 10.34 | 1.66 | Male   | No | Sun | Dinner | 3 |\n",
       "| 3 | 21.01 | 3.50 | Male   | No | Sun | Dinner | 3 |\n",
       "| 4 | 23.68 | 3.31 | Male   | No | Sun | Dinner | 2 |\n",
       "| 5 | 24.59 | 3.61 | Female | No | Sun | Dinner | 4 |\n",
       "| 6 | 25.29 | 4.71 | Male   | No | Sun | Dinner | 4 |\n",
       "\n"
      ],
      "text/plain": [
       "  total_bill tip  sex    smoker day time   size\n",
       "1 16.99      1.01 Female No     Sun Dinner 2   \n",
       "2 10.34      1.66 Male   No     Sun Dinner 3   \n",
       "3 21.01      3.50 Male   No     Sun Dinner 3   \n",
       "4 23.68      3.31 Male   No     Sun Dinner 2   \n",
       "5 24.59      3.61 Female No     Sun Dinner 4   \n",
       "6 25.29      4.71 Male   No     Sun Dinner 4   "
      ]
     },
     "metadata": {},
     "output_type": "display_data"
    }
   ],
   "source": [
    "# \thttps://www.kaggle.com/datasets/saurabhbadole/restaurant-tips-dataset \n",
    "# this reads dataset from my github repo for this project\n",
    "url <- \"https://raw.githubusercontent.com/JustinTrenchcoat/STAT_301_Personal_Project/refs/heads/main/tips.csv\"\n",
    "\n",
    "data_tips <- read.csv(url(url), header = TRUE)\n",
    "head(data_tips)\n",
    "ncol <- ncol(data_tips)\n",
    "norw <- nrow(data_tips)"
   ]
  },
  {
   "cell_type": "markdown",
   "metadata": {},
   "source": [
    "To make sure that the only two explanitory variables don't have multicolliniarity problem when using them in our prediction model, we made a correlation matrix heatmap. "
   ]
  },
  {
   "cell_type": "code",
   "execution_count": 5,
   "metadata": {
    "vscode": {
     "languageId": "r"
    }
   },
   "outputs": [
    {
     "data": {
      "text/html": [
       "<table class=\"dataframe\">\n",
       "<caption>A tibble: 4 × 3</caption>\n",
       "<thead>\n",
       "\t<tr><th scope=col>var1</th><th scope=col>var2</th><th scope=col>corr</th></tr>\n",
       "\t<tr><th scope=col>&lt;chr&gt;</th><th scope=col>&lt;chr&gt;</th><th scope=col>&lt;dbl&gt;</th></tr>\n",
       "</thead>\n",
       "<tbody>\n",
       "\t<tr><td>total_bill</td><td>total_bill</td><td>1.0000000</td></tr>\n",
       "\t<tr><td>total_bill</td><td>size      </td><td>0.5983151</td></tr>\n",
       "\t<tr><td>size      </td><td>total_bill</td><td>0.5983151</td></tr>\n",
       "\t<tr><td>size      </td><td>size      </td><td>1.0000000</td></tr>\n",
       "</tbody>\n",
       "</table>\n"
      ],
      "text/latex": [
       "A tibble: 4 × 3\n",
       "\\begin{tabular}{lll}\n",
       " var1 & var2 & corr\\\\\n",
       " <chr> & <chr> & <dbl>\\\\\n",
       "\\hline\n",
       "\t total\\_bill & total\\_bill & 1.0000000\\\\\n",
       "\t total\\_bill & size       & 0.5983151\\\\\n",
       "\t size       & total\\_bill & 0.5983151\\\\\n",
       "\t size       & size       & 1.0000000\\\\\n",
       "\\end{tabular}\n"
      ],
      "text/markdown": [
       "\n",
       "A tibble: 4 × 3\n",
       "\n",
       "| var1 &lt;chr&gt; | var2 &lt;chr&gt; | corr &lt;dbl&gt; |\n",
       "|---|---|---|\n",
       "| total_bill | total_bill | 1.0000000 |\n",
       "| total_bill | size       | 0.5983151 |\n",
       "| size       | total_bill | 0.5983151 |\n",
       "| size       | size       | 1.0000000 |\n",
       "\n"
      ],
      "text/plain": [
       "  var1       var2       corr     \n",
       "1 total_bill total_bill 1.0000000\n",
       "2 total_bill size       0.5983151\n",
       "3 size       total_bill 0.5983151\n",
       "4 size       size       1.0000000"
      ]
     },
     "metadata": {},
     "output_type": "display_data"
    },
    {
     "data": {
      "image/png": "[encoded data removed]",
      "text/plain": [
       "plot without title"
      ]
     },
     "metadata": {
      "image/png": {
       "height": 300,
       "width": 480
      }
     },
     "output_type": "display_data"
    }
   ],
   "source": [
    "corr_matrix_tip <- \n",
    "   data_tips %>%\n",
    "   select(-sex, -smoker,-day,-time, -tip) |>\n",
    "   cor() |>\n",
    "   as_tibble(rownames = 'var1') |>\n",
    "   pivot_longer(-var1, names_to = \"var2\", values_to = \"corr\")\n",
    "\n",
    "# your code here\n",
    "\n",
    "corr_matrix_tip\n",
    "# Adjust these numbers so the plot looks good in your desktop.\n",
    "options(repr.plot.width = 8, repr.plot.height = 5) \n",
    "\n",
    "plot_corr_matrix_tips <- \n",
    "  corr_matrix_tip %>%\n",
    "  ggplot(aes(x=var1, y=var2)) +\n",
    "  geom_tile(aes(fill = corr), color = \"white\") +\n",
    "  scale_fill_distiller(\"Correlation Coefficient \\n\",\n",
    "      palette =  \"YlOrRd\",\n",
    "      direction = 1, \n",
    "      limits = c(-1,1)\n",
    "    ) +\n",
    "    labs(x = \"First Variable\", y = \"Second Variable\") +\n",
    "    theme_minimal() +\n",
    "    theme(\n",
    "        axis.text.x = element_text(angle = 45, vjust = 1, size = 14, hjust = 1),\n",
    "        axis.text.y = element_text(vjust = 1, size = 14, hjust = 1),\n",
    "        legend.title = element_text(size = 18),\n",
    "        legend.text = element_text(size = 12),\n",
    "        legend.key.size = unit(1.5, \"cm\")\n",
    "    ) +\n",
    "    coord_fixed() +\n",
    "  geom_text(aes(x=var1, y=var2, label = round(corr, digits=2)), color = \"black\", size = 6)\n",
    "\n",
    "# your code here\n",
    "plot_corr_matrix_tips"
   ]
  },
  {
   "cell_type": "markdown",
   "metadata": {},
   "source": [
    "## Method and Plan"
   ]
  },
  {
   "cell_type": "markdown",
   "metadata": {},
   "source": [
    "##### Method:\n",
    "For this question, I would use multiple linear regression with forward selection for the variable selection process. The tip amount is a continuous variable, so logistic regression would not perform well; and it is not an integer count, so poission regression would not return good result as well.\n",
    "##### Assumptions\n",
    "For this selected method, we assume that:  \n",
    "1. The relation between the tip amount(response) and predictors(size of party and total bill amount) are linear.\n",
    "2. The errors are independent.\n",
    "3. The conditional distribution of error term is normal\n",
    "4. the variance of error terms are equal\n",
    "5. The model is an additive model, that is, the increase in tip amount per party size or the increase in tip amount per total bill amount is the same, regardless of the day, time, the sex of people who pays the bill or their smoking conditions.\n",
    "##### Possible Limitation\n",
    "This model is additive, therefore it would not be able to tell if the change in tip amount associated with the party size/total bill amount is different under different time of a day or the customer's smoking habits. "
   ]
  },
  {
   "cell_type": "markdown",
   "metadata": {},
   "source": [
    "## Computational Code"
   ]
  },
  {
   "cell_type": "code",
   "execution_count": 6,
   "metadata": {
    "vscode": {
     "languageId": "r"
    }
   },
   "outputs": [
    {
     "data": {
      "text/html": [
       "<table class=\"dataframe\">\n",
       "<caption>A data.frame: 6 × 7</caption>\n",
       "<thead>\n",
       "\t<tr><th></th><th scope=col>total_bill</th><th scope=col>tip</th><th scope=col>sex</th><th scope=col>smoker</th><th scope=col>day</th><th scope=col>time</th><th scope=col>size</th></tr>\n",
       "\t<tr><th></th><th scope=col>&lt;dbl&gt;</th><th scope=col>&lt;dbl&gt;</th><th scope=col>&lt;chr&gt;</th><th scope=col>&lt;chr&gt;</th><th scope=col>&lt;chr&gt;</th><th scope=col>&lt;chr&gt;</th><th scope=col>&lt;int&gt;</th></tr>\n",
       "</thead>\n",
       "<tbody>\n",
       "\t<tr><th scope=row>1</th><td>13.39</td><td>2.61</td><td>Female</td><td>No </td><td>Sun </td><td>Dinner</td><td>2</td></tr>\n",
       "\t<tr><th scope=row>2</th><td>26.59</td><td>3.41</td><td>Male  </td><td>Yes</td><td>Sat </td><td>Dinner</td><td>3</td></tr>\n",
       "\t<tr><th scope=row>3</th><td> 9.60</td><td>4.00</td><td>Female</td><td>Yes</td><td>Sun </td><td>Dinner</td><td>2</td></tr>\n",
       "\t<tr><th scope=row>4</th><td>18.43</td><td>3.00</td><td>Male  </td><td>No </td><td>Sun </td><td>Dinner</td><td>4</td></tr>\n",
       "\t<tr><th scope=row>5</th><td>16.58</td><td>4.00</td><td>Male  </td><td>Yes</td><td>Thur</td><td>Lunch </td><td>2</td></tr>\n",
       "\t<tr><th scope=row>6</th><td>10.63</td><td>2.00</td><td>Female</td><td>Yes</td><td>Sat </td><td>Dinner</td><td>2</td></tr>\n",
       "</tbody>\n",
       "</table>\n"
      ],
      "text/latex": [
       "A data.frame: 6 × 7\n",
       "\\begin{tabular}{r|lllllll}\n",
       "  & total\\_bill & tip & sex & smoker & day & time & size\\\\\n",
       "  & <dbl> & <dbl> & <chr> & <chr> & <chr> & <chr> & <int>\\\\\n",
       "\\hline\n",
       "\t1 & 13.39 & 2.61 & Female & No  & Sun  & Dinner & 2\\\\\n",
       "\t2 & 26.59 & 3.41 & Male   & Yes & Sat  & Dinner & 3\\\\\n",
       "\t3 &  9.60 & 4.00 & Female & Yes & Sun  & Dinner & 2\\\\\n",
       "\t4 & 18.43 & 3.00 & Male   & No  & Sun  & Dinner & 4\\\\\n",
       "\t5 & 16.58 & 4.00 & Male   & Yes & Thur & Lunch  & 2\\\\\n",
       "\t6 & 10.63 & 2.00 & Female & Yes & Sat  & Dinner & 2\\\\\n",
       "\\end{tabular}\n"
      ],
      "text/markdown": [
       "\n",
       "A data.frame: 6 × 7\n",
       "\n",
       "| <!--/--> | total_bill &lt;dbl&gt; | tip &lt;dbl&gt; | sex &lt;chr&gt; | smoker &lt;chr&gt; | day &lt;chr&gt; | time &lt;chr&gt; | size &lt;int&gt; |\n",
       "|---|---|---|---|---|---|---|---|\n",
       "| 1 | 13.39 | 2.61 | Female | No  | Sun  | Dinner | 2 |\n",
       "| 2 | 26.59 | 3.41 | Male   | Yes | Sat  | Dinner | 3 |\n",
       "| 3 |  9.60 | 4.00 | Female | Yes | Sun  | Dinner | 2 |\n",
       "| 4 | 18.43 | 3.00 | Male   | No  | Sun  | Dinner | 4 |\n",
       "| 5 | 16.58 | 4.00 | Male   | Yes | Thur | Lunch  | 2 |\n",
       "| 6 | 10.63 | 2.00 | Female | Yes | Sat  | Dinner | 2 |\n",
       "\n"
      ],
      "text/plain": [
       "  total_bill tip  sex    smoker day  time   size\n",
       "1 13.39      2.61 Female No     Sun  Dinner 2   \n",
       "2 26.59      3.41 Male   Yes    Sat  Dinner 3   \n",
       "3  9.60      4.00 Female Yes    Sun  Dinner 2   \n",
       "4 18.43      3.00 Male   No     Sun  Dinner 4   \n",
       "5 16.58      4.00 Male   Yes    Thur Lunch  2   \n",
       "6 10.63      2.00 Female Yes    Sat  Dinner 2   "
      ]
     },
     "metadata": {},
     "output_type": "display_data"
    },
    {
     "data": {
      "text/html": [
       "170"
      ],
      "text/latex": [
       "170"
      ],
      "text/markdown": [
       "170"
      ],
      "text/plain": [
       "[1] 170"
      ]
     },
     "metadata": {},
     "output_type": "display_data"
    },
    {
     "data": {
      "text/html": [
       "<table class=\"dataframe\">\n",
       "<caption>A data.frame: 6 × 7</caption>\n",
       "<thead>\n",
       "\t<tr><th></th><th scope=col>total_bill</th><th scope=col>tip</th><th scope=col>sex</th><th scope=col>smoker</th><th scope=col>day</th><th scope=col>time</th><th scope=col>size</th></tr>\n",
       "\t<tr><th></th><th scope=col>&lt;dbl&gt;</th><th scope=col>&lt;dbl&gt;</th><th scope=col>&lt;chr&gt;</th><th scope=col>&lt;chr&gt;</th><th scope=col>&lt;chr&gt;</th><th scope=col>&lt;chr&gt;</th><th scope=col>&lt;int&gt;</th></tr>\n",
       "</thead>\n",
       "<tbody>\n",
       "\t<tr><th scope=row>1</th><td>10.34</td><td>1.66</td><td>Male  </td><td>No</td><td>Sun</td><td>Dinner</td><td>3</td></tr>\n",
       "\t<tr><th scope=row>2</th><td>21.01</td><td>3.50</td><td>Male  </td><td>No</td><td>Sun</td><td>Dinner</td><td>3</td></tr>\n",
       "\t<tr><th scope=row>3</th><td>14.78</td><td>3.23</td><td>Male  </td><td>No</td><td>Sun</td><td>Dinner</td><td>2</td></tr>\n",
       "\t<tr><th scope=row>4</th><td>35.26</td><td>5.00</td><td>Female</td><td>No</td><td>Sun</td><td>Dinner</td><td>4</td></tr>\n",
       "\t<tr><th scope=row>5</th><td>14.83</td><td>3.02</td><td>Female</td><td>No</td><td>Sun</td><td>Dinner</td><td>2</td></tr>\n",
       "\t<tr><th scope=row>6</th><td>16.29</td><td>3.71</td><td>Male  </td><td>No</td><td>Sun</td><td>Dinner</td><td>3</td></tr>\n",
       "</tbody>\n",
       "</table>\n"
      ],
      "text/latex": [
       "A data.frame: 6 × 7\n",
       "\\begin{tabular}{r|lllllll}\n",
       "  & total\\_bill & tip & sex & smoker & day & time & size\\\\\n",
       "  & <dbl> & <dbl> & <chr> & <chr> & <chr> & <chr> & <int>\\\\\n",
       "\\hline\n",
       "\t1 & 10.34 & 1.66 & Male   & No & Sun & Dinner & 3\\\\\n",
       "\t2 & 21.01 & 3.50 & Male   & No & Sun & Dinner & 3\\\\\n",
       "\t3 & 14.78 & 3.23 & Male   & No & Sun & Dinner & 2\\\\\n",
       "\t4 & 35.26 & 5.00 & Female & No & Sun & Dinner & 4\\\\\n",
       "\t5 & 14.83 & 3.02 & Female & No & Sun & Dinner & 2\\\\\n",
       "\t6 & 16.29 & 3.71 & Male   & No & Sun & Dinner & 3\\\\\n",
       "\\end{tabular}\n"
      ],
      "text/markdown": [
       "\n",
       "A data.frame: 6 × 7\n",
       "\n",
       "| <!--/--> | total_bill &lt;dbl&gt; | tip &lt;dbl&gt; | sex &lt;chr&gt; | smoker &lt;chr&gt; | day &lt;chr&gt; | time &lt;chr&gt; | size &lt;int&gt; |\n",
       "|---|---|---|---|---|---|---|---|\n",
       "| 1 | 10.34 | 1.66 | Male   | No | Sun | Dinner | 3 |\n",
       "| 2 | 21.01 | 3.50 | Male   | No | Sun | Dinner | 3 |\n",
       "| 3 | 14.78 | 3.23 | Male   | No | Sun | Dinner | 2 |\n",
       "| 4 | 35.26 | 5.00 | Female | No | Sun | Dinner | 4 |\n",
       "| 5 | 14.83 | 3.02 | Female | No | Sun | Dinner | 2 |\n",
       "| 6 | 16.29 | 3.71 | Male   | No | Sun | Dinner | 3 |\n",
       "\n"
      ],
      "text/plain": [
       "  total_bill tip  sex    smoker day time   size\n",
       "1 10.34      1.66 Male   No     Sun Dinner 3   \n",
       "2 21.01      3.50 Male   No     Sun Dinner 3   \n",
       "3 14.78      3.23 Male   No     Sun Dinner 2   \n",
       "4 35.26      5.00 Female No     Sun Dinner 4   \n",
       "5 14.83      3.02 Female No     Sun Dinner 2   \n",
       "6 16.29      3.71 Male   No     Sun Dinner 3   "
      ]
     },
     "metadata": {},
     "output_type": "display_data"
    },
    {
     "data": {
      "text/html": [
       "74"
      ],
      "text/latex": [
       "74"
      ],
      "text/markdown": [
       "74"
      ],
      "text/plain": [
       "[1] 74"
      ]
     },
     "metadata": {},
     "output_type": "display_data"
    }
   ],
   "source": [
    "# data splitting\n",
    "set.seed(123) # DO NOT CHANGE!\n",
    "\n",
    "data_tips <- \n",
    "    data_tips %>%\n",
    "    mutate(id = row_number())\n",
    "\n",
    "training_tips <- \n",
    "    data_tips %>%\n",
    "    slice_sample(prop = 0.7, replace = FALSE)\n",
    "\n",
    "selection_set_tips <- \n",
    "    data_tips %>%\n",
    "    anti_join(training_tips, by = \"id\")\n",
    "\n",
    "training_tips <- \n",
    "    training_tips %>% \n",
    "    select(-\"id\")\n",
    "\n",
    "selection_set_tips <- \n",
    "    selection_set_tips %>% \n",
    "    select(-\"id\")\n",
    "\n",
    "# your code here\n",
    "\n",
    "head(training_tips)\n",
    "nrow(training_tips)\n",
    "\n",
    "head(selection_set_tips)\n",
    "nrow(selection_set_tips)"
   ]
  },
  {
   "cell_type": "code",
   "execution_count": 12,
   "metadata": {
    "vscode": {
     "languageId": "r"
    }
   },
   "outputs": [
    {
     "data": {
      "text/plain": [
       "Subset selection object\n",
       "Call: regsubsets.formula(x = tip ~ ., nvmax = 8, data = selection_set_tips, \n",
       "    method = \"forward\", )\n",
       "8 Variables  (and intercept)\n",
       "           Forced in Forced out\n",
       "total_bill     FALSE      FALSE\n",
       "sexMale        FALSE      FALSE\n",
       "smokerYes      FALSE      FALSE\n",
       "daySat         FALSE      FALSE\n",
       "daySun         FALSE      FALSE\n",
       "dayThur        FALSE      FALSE\n",
       "timeLunch      FALSE      FALSE\n",
       "size           FALSE      FALSE\n",
       "1 subsets of each size up to 8\n",
       "Selection Algorithm: forward"
      ]
     },
     "metadata": {},
     "output_type": "display_data"
    }
   ],
   "source": [
    "tip_forward_sel <- regsubsets(\n",
    "  x=tip~., \n",
    "  nvmax= 8,\n",
    "  data = selection_set_tips,\n",
    "  method=\"forward\",\n",
    ")\n",
    "\n",
    "tip_forward_sel\n",
    "\n",
    "tip_fwd_summary <- summary(tip_forward_sel)\n",
    "\n",
    "tip_fwd_summary_df <- \n",
    "    tibble(\n",
    "        n_input_variables = 1:8,\n",
    "        RSQ = tip_fwd_summary$rsq,\n",
    "        RSS = tip_fwd_summary$rss,\n",
    "        ADJ.R2 = tip_fwd_summary$adjr2\n",
    "    )"
   ]
  },
  {
   "cell_type": "code",
   "execution_count": 13,
   "metadata": {
    "vscode": {
     "languageId": "r"
    }
   },
   "outputs": [
    {
     "data": {
      "text/plain": [
       "Subset selection object\n",
       "Call: regsubsets.formula(x = tip ~ ., nvmax = 8, data = selection_set_tips, \n",
       "    method = \"forward\", )\n",
       "8 Variables  (and intercept)\n",
       "           Forced in Forced out\n",
       "total_bill     FALSE      FALSE\n",
       "sexMale        FALSE      FALSE\n",
       "smokerYes      FALSE      FALSE\n",
       "daySat         FALSE      FALSE\n",
       "daySun         FALSE      FALSE\n",
       "dayThur        FALSE      FALSE\n",
       "timeLunch      FALSE      FALSE\n",
       "size           FALSE      FALSE\n",
       "1 subsets of each size up to 8\n",
       "Selection Algorithm: forward\n",
       "         total_bill sexMale smokerYes daySat daySun dayThur timeLunch size\n",
       "1  ( 1 ) \"*\"        \" \"     \" \"       \" \"    \" \"    \" \"     \" \"       \" \" \n",
       "2  ( 1 ) \"*\"        \" \"     \" \"       \" \"    \" \"    \" \"     \" \"       \"*\" \n",
       "3  ( 1 ) \"*\"        \" \"     \" \"       \" \"    \" \"    \"*\"     \" \"       \"*\" \n",
       "4  ( 1 ) \"*\"        \" \"     \" \"       \"*\"    \" \"    \"*\"     \" \"       \"*\" \n",
       "5  ( 1 ) \"*\"        \"*\"     \" \"       \"*\"    \" \"    \"*\"     \" \"       \"*\" \n",
       "6  ( 1 ) \"*\"        \"*\"     \"*\"       \"*\"    \" \"    \"*\"     \" \"       \"*\" \n",
       "7  ( 1 ) \"*\"        \"*\"     \"*\"       \"*\"    \"*\"    \"*\"     \" \"       \"*\" \n",
       "8  ( 1 ) \"*\"        \"*\"     \"*\"       \"*\"    \"*\"    \"*\"     \"*\"       \"*\" "
      ]
     },
     "metadata": {},
     "output_type": "display_data"
    }
   ],
   "source": [
    "tip_fwd_summary"
   ]
  },
  {
   "cell_type": "code",
   "execution_count": 18,
   "metadata": {
    "vscode": {
     "languageId": "r"
    }
   },
   "outputs": [
    {
     "data": {
      "text/plain": [
       "\n",
       "Call:\n",
       "lm(formula = tip ~ total_bill + size + day, data = training_tips)\n",
       "\n",
       "Residuals:\n",
       "    Min      1Q  Median      3Q     Max \n",
       "-2.8408 -0.5874 -0.0835  0.5133  4.0858 \n",
       "\n",
       "Coefficients:\n",
       "            Estimate Std. Error t value Pr(>|t|)    \n",
       "(Intercept)  0.87535    0.38067   2.300   0.0227 *  \n",
       "total_bill   0.09746    0.01141   8.544 8.56e-15 ***\n",
       "size         0.15114    0.10513   1.438   0.1524    \n",
       "daySat      -0.36629    0.35857  -1.022   0.3085    \n",
       "daySun      -0.09536    0.36760  -0.259   0.7956    \n",
       "dayThur     -0.03904    0.36752  -0.106   0.9155    \n",
       "---\n",
       "Signif. codes:  0 '***' 0.001 '**' 0.01 '*' 0.05 '.' 0.1 ' ' 1\n",
       "\n",
       "Residual standard error: 1.042 on 164 degrees of freedom\n",
       "Multiple R-squared:  0.4573,\tAdjusted R-squared:  0.4408 \n",
       "F-statistic: 27.64 on 5 and 164 DF,  p-value: < 2.2e-16\n"
      ]
     },
     "metadata": {},
     "output_type": "display_data"
    }
   ],
   "source": [
    "tip_fwd_generative <- lm(tip~total_bill+size+day, data=training_tips)\n",
    "summary(tip_fwd_generative)"
   ]
  },
  {
   "cell_type": "code",
   "execution_count": 16,
   "metadata": {
    "vscode": {
     "languageId": "r"
    }
   },
   "outputs": [
    {
     "data": {
      "text/plain": [
       "\n",
       "Call:\n",
       "lm(formula = tip ~ total_bill + size + day, data = training_tips)\n",
       "\n",
       "Residuals:\n",
       "    Min      1Q  Median      3Q     Max \n",
       "-2.8408 -0.5874 -0.0835  0.5133  4.0858 \n",
       "\n",
       "Coefficients:\n",
       "            Estimate Std. Error t value Pr(>|t|)    \n",
       "(Intercept)  0.87535    0.38067   2.300   0.0227 *  \n",
       "total_bill   0.09746    0.01141   8.544 8.56e-15 ***\n",
       "size         0.15114    0.10513   1.438   0.1524    \n",
       "daySat      -0.36629    0.35857  -1.022   0.3085    \n",
       "daySun      -0.09536    0.36760  -0.259   0.7956    \n",
       "dayThur     -0.03904    0.36752  -0.106   0.9155    \n",
       "---\n",
       "Signif. codes:  0 '***' 0.001 '**' 0.01 '*' 0.05 '.' 0.1 ' ' 1\n",
       "\n",
       "Residual standard error: 1.042 on 164 degrees of freedom\n",
       "Multiple R-squared:  0.4573,\tAdjusted R-squared:  0.4408 \n",
       "F-statistic: 27.64 on 5 and 164 DF,  p-value: < 2.2e-16\n"
      ]
     },
     "metadata": {},
     "output_type": "display_data"
    }
   ],
   "source": [
    "tip_test <- lm(tip~total_bill+size+day, data=training_tips)\n",
    "\n",
    "summary(tip_test)"
   ]
  },
  {
   "cell_type": "markdown",
   "metadata": {},
   "source": [
    "# Citation\n",
    "Badole, Saurabh. (2025, March). *Restaurant Tips Dataset*. Retrieved from [https://www.kaggle.com/datasets/saurabhbadole/restaurant-tips-dataset](https://www.kaggle.com/datasets/saurabhbadole/restaurant-tips-dataset)\n"
   ]
  }
 ],
 "metadata": {
  "kernelspec": {
   "display_name": "R",
   "language": "R",
   "name": "ir"
  },
  "language_info": {
   "codemirror_mode": "r",
   "file_extension": ".r",
   "mimetype": "text/x-r-source",
   "name": "R",
   "pygments_lexer": "r",
   "version": "4.4.2"
  }
 },
 "nbformat": 4,
 "nbformat_minor": 2
}
