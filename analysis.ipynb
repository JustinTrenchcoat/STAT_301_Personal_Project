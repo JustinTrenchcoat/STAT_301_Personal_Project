{
 "cells": [
  {
   "cell_type": "code",
   "execution_count": null,
   "metadata": {
    "vscode": {
     "languageId": "r"
    }
   },
   "outputs": [],
   "source": [
    "library(tidyverse)"
   ]
  },
  {
   "cell_type": "markdown",
   "metadata": {},
   "source": [
    "## Data Description:\n",
    "Collected from a popular restaurant over a specified period, this dataset looks into the tipping behavior in a restaurant setting. In this dataset, there are in total 244 observations, and 7 variables.  \n",
    "Table of variables used:\n",
    "| Variable Name | Discription | Type |\n",
    "| :---: | :---: | :---: |\n",
    "|total_bill| total bill amount in dollars|Numerical, independent variable|\n",
    "|sex| Gender of the person paying the bill (Male/Female)|Categorical, independent variable|\n",
    "|smoker|Whether the person is a smoker (Yes/No) |Categorical, independent variable|\n",
    "|day|Day of the week when the transaction took place (Thur/Fri/Sat/Sun)|Categorical, independent variable|\n",
    "|time|Time of day when the transaction took place (Lunch/Dinner)|Categorical, independent variable|\n",
    "|size|Size of the dining party (number of people)|Numerical, independent variable|\n",
    "|tip|Tip amount in dollars|Numerical, target variable|"
   ]
  },
  {
   "cell_type": "markdown",
   "metadata": {},
   "source": [
    "## Question:\n",
    "The question would be a predictive one:  \n",
    "Given the customers' information (gender, total bill amount, etc.), what would be the tip amount?"
   ]
  },
  {
   "cell_type": "markdown",
   "metadata": {},
   "source": [
    "## EDA and Visualization"
   ]
  },
  {
   "cell_type": "code",
   "execution_count": 3,
   "metadata": {
    "vscode": {
     "languageId": "r"
    }
   },
   "outputs": [
    {
     "data": {
      "text/html": [
       "<table class=\"dataframe\">\n",
       "<caption>A data.frame: 6 × 7</caption>\n",
       "<thead>\n",
       "\t<tr><th></th><th scope=col>total_bill</th><th scope=col>tip</th><th scope=col>sex</th><th scope=col>smoker</th><th scope=col>day</th><th scope=col>time</th><th scope=col>size</th></tr>\n",
       "\t<tr><th></th><th scope=col>&lt;dbl&gt;</th><th scope=col>&lt;dbl&gt;</th><th scope=col>&lt;chr&gt;</th><th scope=col>&lt;chr&gt;</th><th scope=col>&lt;chr&gt;</th><th scope=col>&lt;chr&gt;</th><th scope=col>&lt;int&gt;</th></tr>\n",
       "</thead>\n",
       "<tbody>\n",
       "\t<tr><th scope=row>1</th><td>16.99</td><td>1.01</td><td>Female</td><td>No</td><td>Sun</td><td>Dinner</td><td>2</td></tr>\n",
       "\t<tr><th scope=row>2</th><td>10.34</td><td>1.66</td><td>Male  </td><td>No</td><td>Sun</td><td>Dinner</td><td>3</td></tr>\n",
       "\t<tr><th scope=row>3</th><td>21.01</td><td>3.50</td><td>Male  </td><td>No</td><td>Sun</td><td>Dinner</td><td>3</td></tr>\n",
       "\t<tr><th scope=row>4</th><td>23.68</td><td>3.31</td><td>Male  </td><td>No</td><td>Sun</td><td>Dinner</td><td>2</td></tr>\n",
       "\t<tr><th scope=row>5</th><td>24.59</td><td>3.61</td><td>Female</td><td>No</td><td>Sun</td><td>Dinner</td><td>4</td></tr>\n",
       "\t<tr><th scope=row>6</th><td>25.29</td><td>4.71</td><td>Male  </td><td>No</td><td>Sun</td><td>Dinner</td><td>4</td></tr>\n",
       "</tbody>\n",
       "</table>\n"
      ],
      "text/latex": [
       "A data.frame: 6 × 7\n",
       "\\begin{tabular}{r|lllllll}\n",
       "  & total\\_bill & tip & sex & smoker & day & time & size\\\\\n",
       "  & <dbl> & <dbl> & <chr> & <chr> & <chr> & <chr> & <int>\\\\\n",
       "\\hline\n",
       "\t1 & 16.99 & 1.01 & Female & No & Sun & Dinner & 2\\\\\n",
       "\t2 & 10.34 & 1.66 & Male   & No & Sun & Dinner & 3\\\\\n",
       "\t3 & 21.01 & 3.50 & Male   & No & Sun & Dinner & 3\\\\\n",
       "\t4 & 23.68 & 3.31 & Male   & No & Sun & Dinner & 2\\\\\n",
       "\t5 & 24.59 & 3.61 & Female & No & Sun & Dinner & 4\\\\\n",
       "\t6 & 25.29 & 4.71 & Male   & No & Sun & Dinner & 4\\\\\n",
       "\\end{tabular}\n"
      ],
      "text/markdown": [
       "\n",
       "A data.frame: 6 × 7\n",
       "\n",
       "| <!--/--> | total_bill &lt;dbl&gt; | tip &lt;dbl&gt; | sex &lt;chr&gt; | smoker &lt;chr&gt; | day &lt;chr&gt; | time &lt;chr&gt; | size &lt;int&gt; |\n",
       "|---|---|---|---|---|---|---|---|\n",
       "| 1 | 16.99 | 1.01 | Female | No | Sun | Dinner | 2 |\n",
       "| 2 | 10.34 | 1.66 | Male   | No | Sun | Dinner | 3 |\n",
       "| 3 | 21.01 | 3.50 | Male   | No | Sun | Dinner | 3 |\n",
       "| 4 | 23.68 | 3.31 | Male   | No | Sun | Dinner | 2 |\n",
       "| 5 | 24.59 | 3.61 | Female | No | Sun | Dinner | 4 |\n",
       "| 6 | 25.29 | 4.71 | Male   | No | Sun | Dinner | 4 |\n",
       "\n"
      ],
      "text/plain": [
       "  total_bill tip  sex    smoker day time   size\n",
       "1 16.99      1.01 Female No     Sun Dinner 2   \n",
       "2 10.34      1.66 Male   No     Sun Dinner 3   \n",
       "3 21.01      3.50 Male   No     Sun Dinner 3   \n",
       "4 23.68      3.31 Male   No     Sun Dinner 2   \n",
       "5 24.59      3.61 Female No     Sun Dinner 4   \n",
       "6 25.29      4.71 Male   No     Sun Dinner 4   "
      ]
     },
     "metadata": {},
     "output_type": "display_data"
    }
   ],
   "source": [
    "data <- read.csv(\"tips.csv\")\n",
    "head(data)\n",
    "ncol <- ncol(data)\n",
    "norw <- nrow(data)"
   ]
  },
  {
   "cell_type": "code",
   "execution_count": null,
   "metadata": {
    "vscode": {
     "languageId": "r"
    }
   },
   "outputs": [],
   "source": []
  }
 ],
 "metadata": {
  "kernelspec": {
   "display_name": "R",
   "language": "R",
   "name": "ir"
  },
  "language_info": {
   "codemirror_mode": "r",
   "file_extension": ".r",
   "mimetype": "text/x-r-source",
   "name": "R",
   "pygments_lexer": "r",
   "version": "4.4.2"
  }
 },
 "nbformat": 4,
 "nbformat_minor": 2
}
